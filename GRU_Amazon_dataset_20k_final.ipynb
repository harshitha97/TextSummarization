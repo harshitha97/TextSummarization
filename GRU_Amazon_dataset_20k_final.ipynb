{
  "cells": [
    {
      "cell_type": "markdown",
      "source": [
        "This notebook runs the text summerizer on Amazon dataset using Gated Recurrent Units architecture in Recurrent Neural Networks.\n",
        "Dataset size : 20000"
      ],
      "metadata": {
        "id": "uMto0t2Ska5F"
      }
    },
    {
      "cell_type": "markdown",
      "source": [
        "Installing necessary librabries.\n",
        "\n",
        "We have downgraded Keras and Tensorflow as were facing an issue during inference phase."
      ],
      "metadata": {
        "id": "5As8mcSslMcF"
      }
    },
    {
      "cell_type": "code",
      "execution_count": null,
      "metadata": {
        "id": "b9wve2j3thA7"
      },
      "outputs": [],
      "source": [
        "# !pip install q keras==2.2.4\n",
        "# !pip install q tensorflow==1.15.2\n",
        "# !pip install q numpy==1.19.5\n",
        "# !pip install tensorflow-gpu==1.15.2  # GPU\n",
        "# !pip install contractions"
      ]
    },
    {
      "cell_type": "code",
      "execution_count": null,
      "metadata": {
        "colab": {
          "base_uri": "https://localhost:8080/"
        },
        "id": "BbrrBhe7OWck",
        "outputId": "55473b95-3370-40f0-c6c0-e266ab5a647d"
      },
      "outputs": [
        {
          "name": "stdout",
          "output_type": "stream",
          "text": [
            "[nltk_data] Downloading package wordnet to /root/nltk_data...\n",
            "[nltk_data]   Unzipping corpora/wordnet.zip.\n",
            "[nltk_data] Downloading package averaged_perceptron_tagger to\n",
            "[nltk_data]     /root/nltk_data...\n",
            "[nltk_data]   Unzipping taggers/averaged_perceptron_tagger.zip.\n"
          ]
        }
      ],
      "source": [
        "import numpy as np\n",
        "import pandas as pd\n",
        "import os\n",
        "from zipfile import ZipFile\n",
        "from pathlib import Path\n",
        "from io import StringIO\n",
        "import string  \n",
        "import nltk\n",
        "from nltk.tokenize import sent_tokenize, word_tokenize\n",
        "from nltk.corpus import stopwords \n",
        "import nltk\n",
        "nltk.download(\"wordnet\")\n",
        "nltk.download('averaged_perceptron_tagger')\n",
        "from nltk.stem import WordNetLemmatizer\n",
        "import contractions\n",
        "from nltk.corpus import wordnet\n",
        "import re\n",
        "from tensorflow.keras.preprocessing.text import Tokenizer\n",
        "from tensorflow.keras.preprocessing.sequence import pad_sequences"
      ]
    },
    {
      "cell_type": "code",
      "execution_count": null,
      "metadata": {
        "colab": {
          "base_uri": "https://localhost:8080/"
        },
        "id": "R-wcEy6FtJoC",
        "outputId": "824633a4-f6a3-4e52-eb81-8ad1f6e3433c"
      },
      "outputs": [
        {
          "name": "stdout",
          "output_type": "stream",
          "text": [
            "2.2.4\n",
            "1.15.2\n"
          ]
        },
        {
          "name": "stderr",
          "output_type": "stream",
          "text": [
            "Using TensorFlow backend.\n"
          ]
        }
      ],
      "source": [
        "import keras\n",
        "import tensorflow\n",
        "# import tensorflow-gpu\n",
        "print(keras.__version__)\n",
        "print(tensorflow.__version__)\n",
        "# print(tensorflow-gpu.__version__)"
      ]
    },
    {
      "cell_type": "markdown",
      "source": [
        "Code to check if GPU is available."
      ],
      "metadata": {
        "id": "2ydJWwlflsWV"
      }
    },
    {
      "cell_type": "code",
      "execution_count": null,
      "metadata": {
        "colab": {
          "base_uri": "https://localhost:8080/"
        },
        "id": "I9HmZR0ZiZYh",
        "outputId": "9654247b-b8d6-42ec-f910-8779f66a340c"
      },
      "outputs": [
        {
          "name": "stdout",
          "output_type": "stream",
          "text": [
            "Found GPU at: /device:GPU:0\n"
          ]
        }
      ],
      "source": [
        "device_name = tensorflow.test.gpu_device_name()\n",
        "if device_name != '/device:GPU:0':\n",
        "  raise SystemError('GPU device not found')\n",
        "print('Found GPU at: {}'.format(device_name))"
      ]
    },
    {
      "cell_type": "code",
      "execution_count": null,
      "metadata": {
        "id": "lE_bDb_FrjFO"
      },
      "outputs": [],
      "source": [
        "from tensorflow.keras.layers import LSTM,Input, GRU, Attention, Embedding, Dense, Concatenate, TimeDistributed   #Layers required to implement the model\n",
        "from tensorflow.keras.models import Model\n",
        "from tensorflow.keras.callbacks import EarlyStopping\n",
        "from keras import backend as K\n",
        "# from keras import Input"
      ]
    },
    {
      "cell_type": "code",
      "execution_count": null,
      "metadata": {
        "colab": {
          "base_uri": "https://localhost:8080/"
        },
        "id": "C6qA0swZo2GG",
        "outputId": "b60df51b-d1b4-47f3-ff3e-ab0a9693d6e8"
      },
      "outputs": [
        {
          "name": "stdout",
          "output_type": "stream",
          "text": [
            "[nltk_data] Downloading package stopwords to /root/nltk_data...\n",
            "[nltk_data]   Unzipping corpora/stopwords.zip.\n",
            "[nltk_data] Downloading package punkt to /root/nltk_data...\n",
            "[nltk_data]   Unzipping tokenizers/punkt.zip.\n"
          ]
        },
        {
          "data": {
            "text/plain": [
              "True"
            ]
          },
          "execution_count": 6,
          "metadata": {},
          "output_type": "execute_result"
        }
      ],
      "source": [
        "nltk.download('stopwords')\n",
        "nltk.download('punkt')"
      ]
    },
    {
      "cell_type": "markdown",
      "source": [
        "We are accessing our datasets using Google Drive."
      ],
      "metadata": {
        "id": "MfKz6qOFl1bJ"
      }
    },
    {
      "cell_type": "code",
      "execution_count": null,
      "metadata": {
        "colab": {
          "base_uri": "https://localhost:8080/"
        },
        "id": "RM5TmiIhObPX",
        "outputId": "2506004c-8b1e-43e6-856e-83d29ab53877"
      },
      "outputs": [
        {
          "name": "stdout",
          "output_type": "stream",
          "text": [
            "Mounted at /content/drive\n"
          ]
        }
      ],
      "source": [
        "from google.colab import drive\n",
        "drive.mount('/content/drive')"
      ]
    },
    {
      "cell_type": "markdown",
      "source": [
        "### Function to Load and read the dataset."
      ],
      "metadata": {
        "id": "f-QBOd9znLUw"
      }
    },
    {
      "cell_type": "code",
      "execution_count": null,
      "metadata": {
        "id": "1kaBG-_zOfpn"
      },
      "outputs": [],
      "source": [
        "from sklearn.model_selection import StratifiedShuffleSplit\n",
        "import collections\n",
        "from sklearn.model_selection import train_test_split\n",
        "\n",
        "def load_dataset():\n",
        "  zf = ZipFile('/content/drive/MyDrive/Amazon_dataset.zip')\n",
        "  df = pd.read_csv(zf.open('Reviews.csv'))\n",
        "\n",
        "  df.dropna(inplace= True)\n",
        "  print(df.columns)\n",
        "  y = df[\"Summary\"]\n",
        "  x = df[\"Text\"]\n",
        "\n",
        "  x_train, x_test, y_train, y_test = train_test_split(x, y, test_size= .15, random_state= 42, stratify= None )\n",
        "  x_train, x_val, y_train, y_val= train_test_split(x_train, y_train, test_size= .25, random_state= 42, stratify= None )\n",
        "\n",
        "\n",
        "  return x_train, x_val, x_test,y_train, y_val,y_test"
      ]
    },
    {
      "cell_type": "markdown",
      "source": [
        "### Preprocessing Functions: <br>\n",
        "1) Lemmatizing <br>\n",
        "2) Removing Punctuations <br>\n",
        "3) Removing stopwords <br>\n",
        "4) Removing words less than length 3 <br>\n"
      ],
      "metadata": {
        "id": "3PiNcgBioYc2"
      }
    },
    {
      "cell_type": "code",
      "execution_count": null,
      "metadata": {
        "id": "2osbMUuRgVQ3"
      },
      "outputs": [],
      "source": [
        "lemmatizer = WordNetLemmatizer()\n",
        "\n",
        "def get_wordnet_pos(tag):\n",
        "    \"\"\"Map POS tag to first character lemmatize() accepts\"\"\"\n",
        "    tag_dict = {\"J\": wordnet.ADJ,\n",
        "                \"N\": wordnet.NOUN,\n",
        "                \"V\": wordnet.VERB,\n",
        "                \"R\": wordnet.ADV}\n",
        "\n",
        "    return tag_dict.get(tag, wordnet.NOUN)\n"
      ]
    },
    {
      "cell_type": "code",
      "execution_count": null,
      "metadata": {
        "id": "qkBvjsxCOn7D"
      },
      "outputs": [],
      "source": [
        "def preprocessing(data,data_column):\n",
        "  # train_df = data.drop(['id'], axis=1)\n",
        "  processed_sent=[]\n",
        "  for sent in data:\n",
        "    processed_sent_sub=re.sub(\"[\\(\\[].*?[\\)\\]]\", \"\", sent)\n",
        "    processed_sent_sub=contractions.fix(processed_sent_sub)\n",
        "    processed_sent.append(processed_sent_sub)\n",
        "  WORD = re.compile(r'\\w+')\n",
        "  sentence = []\n",
        "  for art in processed_sent:\n",
        "    words = WORD.findall(art)\n",
        "    # print(words)\n",
        "    sentence.append(words)\n",
        "  eng_stopwords = stopwords.words('english')\n",
        "  punctuation = string.punctuation\n",
        "  format_sent = []\n",
        "\n",
        "  for sntc in sentence:\n",
        "    format_words = []\n",
        "    for word in sntc:\n",
        "      if word not in eng_stopwords and word not in punctuation and len(word)>2:\n",
        "        format_words.append(word.lower())\n",
        "    format_words = nltk.pos_tag(format_words)\n",
        "    doc = [lemmatizer.lemmatize(word[0],get_wordnet_pos(word[1][0].upper())) for word in format_words]\n",
        "    format_sent.append(\" \".join(doc))\n",
        "\n",
        "  return format_sent"
      ]
    },
    {
      "cell_type": "markdown",
      "source": [
        "### Function to add start and end tokens: "
      ],
      "metadata": {
        "id": "0viRo6Djo_ZP"
      }
    },
    {
      "cell_type": "code",
      "execution_count": null,
      "metadata": {
        "id": "6KdF-OqorWvU"
      },
      "outputs": [],
      "source": [
        "def add_start_end_token(data):\n",
        "  data_sos_eos=[]\n",
        "  for x in data:\n",
        "    data_sos_eos.append('sos '+x+' eos')\n",
        "\n",
        "  return data_sos_eos"
      ]
    },
    {
      "cell_type": "markdown",
      "source": [
        "### Functions for tokenizing and padding:"
      ],
      "metadata": {
        "id": "z2Zydl9fpEN-"
      }
    },
    {
      "cell_type": "code",
      "execution_count": null,
      "metadata": {
        "id": "bUzpZKDHhOe1"
      },
      "outputs": [],
      "source": [
        "def tokenizer(data):\n",
        "    tokenizer = Tokenizer(oov_token = \"<UNK>\")\n",
        "    tokenizer.fit_on_texts(data)\n",
        "    \n",
        "    return tokenizer\n",
        "\n",
        "def token_fit(data,tokenizer):\n",
        "    sequences=tokenizer.texts_to_sequences(data)\n",
        "    word_index=tokenizer.word_index\n",
        "    print(len(max(sequences,key=len)))\n",
        "    return sequences,len(max(sequences,key=len)),len(word_index)\n",
        "\n",
        "def padding(sequences,global_max_len):\n",
        "    padded = pad_sequences(sequences, padding = \"post\",maxlen=global_max_len)\n",
        "    return padded,len(padded[0])"
      ]
    },
    {
      "cell_type": "markdown",
      "source": [
        "### Model Definition:"
      ],
      "metadata": {
        "id": "2N91GgYNpLi2"
      }
    },
    {
      "cell_type": "code",
      "execution_count": null,
      "metadata": {
        "id": "7eMzli8spZhi"
      },
      "outputs": [],
      "source": [
        "#Defining hyperparameters\n",
        "hidden_layer_dimensions = 256\n",
        "embedding_dimensions = 256"
      ]
    },
    {
      "cell_type": "code",
      "execution_count": null,
      "metadata": {
        "id": "WX4mlwRfooNY"
      },
      "outputs": [],
      "source": [
        "#create model with encoder decoder architecture:\n",
        "\n",
        "class MySeq2Seq:\n",
        "\n",
        "  def __init__(self, hidden_layer_dimensions,embedding_dimensions,ARTICLE_LEN,ART_VOCAB_SIZE,HIGHLIGHT_LEN, HIGH_VOCAB_SIZE):\n",
        "    with tensorflow.device(\"/gpu:0\"):\n",
        "      self.input_text_layer = Input(shape=(ARTICLE_LEN,))\n",
        "      self.encoder_emb_layer =  Embedding(HIGH_VOCAB_SIZE, embedding_dimensions,trainable=True)\n",
        "\n",
        "      self.encoderGRULayer1 = GRU(hidden_layer_dimensions,return_sequences=True,return_state=True,dropout=0.4,recurrent_dropout=0)\n",
        "      self.encoderGRULayer2 = GRU(hidden_layer_dimensions,return_sequences=True,return_state=True,dropout=0.4,recurrent_dropout=0)\n",
        "      self.encoderGRULayer3= GRU(hidden_layer_dimensions, return_state=True, return_sequences=True,dropout=0.4,recurrent_dropout=0)\n",
        "\n",
        "      self.input_summary_layer = Input(shape=(None,))\n",
        "      self.decoder_emb_layer = Embedding(HIGH_VOCAB_SIZE, embedding_dimensions,trainable=True) \n",
        "      self.decoderGRULayer = GRU(hidden_layer_dimensions, return_sequences=True, return_state=True,dropout=0.4,recurrent_dropout=0)\n",
        "      self.OutputDenseLayer =  TimeDistributed(Dense(HIGH_VOCAB_SIZE, activation='softmax'))\n",
        "  \n",
        "  def create(self):\n",
        "    with tensorflow.device(\"/gpu:0\"):\n",
        "      enc_emb = self.encoder_emb_layer(self.input_text_layer)\n",
        "      encoder_output1, CState1 = self.encoderGRULayer1(enc_emb)\n",
        "      encoder_output2, CState2 = self.encoderGRULayer2(encoder_output1)\n",
        "      encoder_output_final, CState_final= self.encoderGRULayer3(encoder_output2)\n",
        "\n",
        "      self.encoder_output_final = encoder_output_final\n",
        "      self.CState_final = CState_final\n",
        "\n",
        "      dec_emb = self.decoder_emb_layer(self.input_summary_layer)\n",
        "      decoder_gru_outputs, decoder_gru_state = self.decoderGRULayer(dec_emb,initial_state=[CState_final])\n",
        "\n",
        "      self.decoder_gru_outputs = self.OutputDenseLayer(decoder_gru_outputs)\n",
        "\n",
        "      self.model = Model([self.input_text_layer, self.input_summary_layer], self.decoder_gru_outputs)\n",
        "      self.model.summary()\n",
        "\n",
        "\n",
        "      #Model creation for inference starts here:\n",
        "\n",
        "      #encoder - testing\n",
        "      self.encoder_testing = Model(inputs=self.input_text_layer, outputs =[self.encoder_output_final,self.CState_final])\n",
        "      self.encoder_testing.summary()\n",
        "\n",
        "      #decoder - testing\n",
        "      self.decoder_state_input = Input(shape=(hidden_layer_dimensions,))\n",
        "      self.decoder_hidden_state_input = Input(shape=(ARTICLE_LEN,hidden_layer_dimensions))\n",
        "\n",
        "      dec_emb2 = self.decoder_emb_layer(self.input_summary_layer)\n",
        "\n",
        "      self.decoder_gru_outputs, self.decoder_gru_state = self.decoderGRULayer(dec_emb2, initial_state=self.decoder_state_input )\n",
        "\n",
        "      self.decoder_gru_outputs = self.OutputDenseLayer(self.decoder_gru_outputs)\n",
        "\n",
        "      self.decoder_testing = Model([self.input_summary_layer]+[self.decoder_hidden_state_input,self.decoder_state_input], [self.decoder_gru_outputs]+[self.decoder_gru_state])\n",
        "      self.decoder_testing.summary()\n"
      ]
    },
    {
      "cell_type": "code",
      "execution_count": null,
      "metadata": {
        "colab": {
          "base_uri": "https://localhost:8080/"
        },
        "id": "zNX4ynFGqDvq",
        "outputId": "cb3b8967-d719-4b54-89fc-3da4715e29a1"
      },
      "outputs": [
        {
          "name": "stdout",
          "output_type": "stream",
          "text": [
            "Index(['Id', 'ProductId', 'UserId', 'ProfileName', 'HelpfulnessNumerator',\n",
            "       'HelpfulnessDenominator', 'Score', 'Time', 'Summary', 'Text'],\n",
            "      dtype='object')\n"
          ]
        }
      ],
      "source": [
        "x_train, x_val, x_test,y_train, y_val,y_test=load_dataset()"
      ]
    },
    {
      "cell_type": "code",
      "execution_count": null,
      "metadata": {
        "id": "l4NPFg7t7KW8"
      },
      "outputs": [],
      "source": [
        "data_size=20000"
      ]
    },
    {
      "cell_type": "code",
      "execution_count": null,
      "metadata": {
        "id": "AApNXQMJqqKu"
      },
      "outputs": [],
      "source": [
        "format_data = preprocessing(x_train[0:data_size],'article')\n",
        "format_highlight = preprocessing(y_train[0:data_size],'highlights')\n",
        "format_val_data = preprocessing(x_val[0:data_size],'article')\n",
        "format_val_highlight = preprocessing(y_val[0:data_size],'highlights')\n",
        "format_test_data = preprocessing(x_test[0:data_size],'article')\n",
        "format_test_highlight = preprocessing(y_test[0:data_size],'highlights')\n"
      ]
    },
    {
      "cell_type": "markdown",
      "source": [
        "We have capped the length of the text and summary according to the below histograms of word counts."
      ],
      "metadata": {
        "id": "eLzmrW-hpnKv"
      }
    },
    {
      "cell_type": "code",
      "execution_count": null,
      "metadata": {
        "colab": {
          "base_uri": "https://localhost:8080/",
          "height": 281
        },
        "id": "t5ToMqJPwUo_",
        "outputId": "37732d7b-c425-4d72-8f3a-fa7511adbf62"
      },
      "outputs": [
        {
          "data": {
            "image/png": "[encoded data removed]",
            "text/plain": [
              "<Figure size 432x288 with 2 Axes>"
            ]
          },
          "metadata": {},
          "output_type": "display_data"
        }
      ],
      "source": [
        "import matplotlib.pyplot as plt\n",
        "\n",
        "text_word_count = []\n",
        "summary_word_count = []\n",
        "\n",
        "# populate the lists with sentence lengths\n",
        "for i in format_data:\n",
        "      text_word_count.append(len(i.split()))\n",
        "\n",
        "for i in format_highlight:\n",
        "      summary_word_count.append(len(i.split()))\n",
        "\n",
        "length_df = pd.DataFrame({'text':text_word_count, 'summary':summary_word_count})\n",
        "\n",
        "length_df.hist(bins = 30)\n",
        "plt.show()"
      ]
    },
    {
      "cell_type": "code",
      "execution_count": null,
      "metadata": {
        "id": "cYtfWZrRwXva"
      },
      "outputs": [],
      "source": [
        "max_text_len=80\n",
        "max_summary_len=10"
      ]
    },
    {
      "cell_type": "code",
      "execution_count": null,
      "metadata": {
        "id": "ISiBvntawgYg"
      },
      "outputs": [],
      "source": [
        "short_text=[]\n",
        "short_summary=[]\n",
        "short_val_summary=[]\n",
        "short_val_text=[]\n",
        "short_test_summary=[]\n",
        "short_test_text=[]\n",
        "for i in range(len(format_data)):\n",
        "    if(len(format_highlight[i].split())<=max_summary_len and len(format_data[i].split())<=max_text_len):\n",
        "        short_summary.append(format_highlight[i])\n",
        "        short_text.append(format_data[i])\n",
        "\n",
        "\n",
        "for i in range(len(format_val_data)):\n",
        "    if(len(format_val_highlight[i].split())<=max_summary_len and len(format_val_data[i].split())<=max_text_len):\n",
        "        short_val_summary.append(format_val_highlight[i])\n",
        "        short_val_text.append(format_val_data[i])\n",
        "\n",
        "for i in range(len(format_test_data)):\n",
        "    if(len(format_test_highlight[i].split())<=max_summary_len and len(format_test_data[i].split())<=max_text_len):\n",
        "        short_test_summary.append(format_test_highlight[i])\n",
        "        short_test_text.append(format_test_data[i])\n",
        "        \n",
        "format_highlight=short_summary\n",
        "format_data=short_text\n",
        "\n",
        "format_val_highlight=short_val_summary\n",
        "format_val_data=short_val_text\n",
        "\n",
        "format_test_highlight=short_test_summary\n",
        "format_test_data=short_test_text"
      ]
    },
    {
      "cell_type": "code",
      "execution_count": null,
      "metadata": {
        "colab": {
          "base_uri": "https://localhost:8080/"
        },
        "id": "9spTOJFc37eO",
        "outputId": "e97b37b7-62db-489a-cd45-cd311eeb1075"
      },
      "outputs": [
        {
          "data": {
            "text/plain": [
              "567"
            ]
          },
          "execution_count": 42,
          "metadata": {},
          "output_type": "execute_result"
        }
      ],
      "source": [
        "len(max(format_data,key=len))"
      ]
    },
    {
      "cell_type": "code",
      "execution_count": null,
      "metadata": {
        "colab": {
          "base_uri": "https://localhost:8080/",
          "height": 53
        },
        "id": "Y5Tvkb7hu4jz",
        "outputId": "af13c31a-dd37-4877-e590-9697ecfbd586"
      },
      "outputs": [
        {
          "data": {
            "application/vnd.google.colaboratory.intrinsic+json": {
              "type": "string"
            },
            "text/plain": [
              "'favorite time lunch lunch one packet spring vegetable soup mix one packet tomato soup sprinkle crush cracker top good also eat afternoon know go late night office want stay away snack food'"
            ]
          },
          "execution_count": 43,
          "metadata": {},
          "output_type": "execute_result"
        }
      ],
      "source": [
        "format_data[0]"
      ]
    },
    {
      "cell_type": "markdown",
      "source": [
        "### Text Tokenizing and Padding:"
      ],
      "metadata": {
        "id": "0nEYXA5Uqlp5"
      }
    },
    {
      "cell_type": "code",
      "execution_count": null,
      "metadata": {
        "colab": {
          "base_uri": "https://localhost:8080/"
        },
        "id": "4O4k5R1JMnSW",
        "outputId": "69fcb2c9-2626-4749-d26c-a5d25d660957"
      },
      "outputs": [
        {
          "name": "stdout",
          "output_type": "stream",
          "text": [
            "80\n",
            "12\n",
            "80\n",
            "12\n",
            "80\n",
            "12\n"
          ]
        }
      ],
      "source": [
        "#padded_seq,ART_VOCAB_SIZE,ARTICLE_LEN=tokenizer(format_data)\n",
        "X_token=tokenizer(format_data)\n",
        "sos_eos_highlight=add_start_end_token(format_highlight)\n",
        "Y_token=tokenizer(sos_eos_highlight)\n",
        "\n",
        "seq,max_len_data,ART_VOCAB_SIZE=token_fit(format_data,X_token)\n",
        "seq_highlight,max_len_data_highlights,HIGH_VOCAB_SIZE=token_fit(sos_eos_highlight,Y_token)\n",
        "\n",
        "#padded_val_seq_data, VAL_ART_VOCAB_SIZE, VAL_ART_LEN = tokenizer(format_val_data)\n",
        "val_seq_data, max_len_val_data, VAL_ART_VOCAB_SIZE= token_fit(format_val_data,X_token)\n",
        "sos_eos_val_highlight=add_start_end_token(format_val_highlight)\n",
        "#padded_val_seq_highlight, VAL_HIGH_VOCAB_SIZE, VAL_HIGHLIGHT_LEN = tokenizer(sos_eos_val_highlight)\n",
        "val_seq_highlight,max_len_val_data_highlights, VAL_HIGH_VOCAB_SIZE= token_fit(sos_eos_val_highlight,Y_token)\n",
        "\n",
        "#padded_test_seq_data, TEST_ART_VOCAB_SIZE, TEST_ART_LEN = tokenizer(format_test_data)\n",
        "test_seq_data, max_len_test_data, TEST_ART_VOCAB_SIZE= token_fit(format_test_data,X_token)\n",
        "sos_eos_test_highlight=add_start_end_token(format_test_highlight)\n",
        "#padded_test_seq_highlight, TEST_HIGH_VOCAB_SIZE, TEST_HIGHLIGHT_LEN = tokenizer(sos_eos_test_highlight)\n",
        "test_seq_highlight, max_len_test_data_highlights, TEST_HIGH_VOCAB_SIZE= token_fit(sos_eos_test_highlight,Y_token)\n",
        "\n",
        "global_max_len_data=max([max_len_data,max_len_val_data,max_len_test_data])\n",
        "global_max_len_data_highlights=max([max_len_data_highlights,max_len_val_data_highlights,max_len_test_data_highlights])\n",
        "\n",
        "padded_seq,ARTICLE_LEN=padding(seq,global_max_len_data)\n",
        "padded_val_seq_data, VAL_ART_LEN = padding(val_seq_data,global_max_len_data)\n",
        "padded_test_seq_data, TEST_ART_LEN = padding(test_seq_data,global_max_len_data)\n",
        "\n",
        "padded_seq_highlight,HIGHLIGHT_LEN=padding(seq_highlight,global_max_len_data_highlights)\n",
        "padded_val_seq_highlight, VAL_HIGHLIGHT_LEN = padding(val_seq_highlight,global_max_len_data_highlights)\n",
        "padded_test_seq_highlight, TEST_HIGHLIGHT_LEN = padding(test_seq_highlight,global_max_len_data_highlights)\n",
        "#print(words)"
      ]
    },
    {
      "cell_type": "code",
      "execution_count": null,
      "metadata": {
        "id": "Lo51Rng7k4pu"
      },
      "outputs": [],
      "source": [
        "global_max_highlight_vocab_size = max(HIGH_VOCAB_SIZE,VAL_HIGH_VOCAB_SIZE,TEST_HIGH_VOCAB_SIZE)\n",
        "\n",
        "global_max_article_vocab_size = max(ART_VOCAB_SIZE,VAL_ART_VOCAB_SIZE,TEST_ART_VOCAB_SIZE)"
      ]
    },
    {
      "cell_type": "code",
      "execution_count": null,
      "metadata": {
        "id": "MaancLJBzO_G"
      },
      "outputs": [],
      "source": [
        "K.clear_session()  #Resets all state generated by Keras"
      ]
    },
    {
      "cell_type": "markdown",
      "source": [
        "### Creating model"
      ],
      "metadata": {
        "id": "NIeYvo2lqzaj"
      }
    },
    {
      "cell_type": "code",
      "execution_count": null,
      "metadata": {
        "colab": {
          "base_uri": "https://localhost:8080/"
        },
        "id": "hgAnzS1uoyaH",
        "outputId": "078ae22b-7b61-47f3-d88c-61006080ff77"
      },
      "outputs": [
        {
          "name": "stdout",
          "output_type": "stream",
          "text": [
            "WARNING:tensorflow:From /usr/local/lib/python3.7/dist-packages/tensorflow_core/python/keras/initializers.py:119: calling RandomUniform.__init__ (from tensorflow.python.ops.init_ops) with dtype is deprecated and will be removed in a future version.\n",
            "Instructions for updating:\n",
            "Call initializer instance with the dtype argument instead of passing it to the constructor\n",
            "WARNING:tensorflow:From /usr/local/lib/python3.7/dist-packages/tensorflow_core/python/ops/resource_variable_ops.py:1630: calling BaseResourceVariable.__init__ (from tensorflow.python.ops.resource_variable_ops) with constraint is deprecated and will be removed in a future version.\n",
            "Instructions for updating:\n",
            "If using Keras pass *_constraint arguments to layers.\n",
            "Model: \"model\"\n",
            "__________________________________________________________________________________________________\n",
            "Layer (type)                    Output Shape         Param #     Connected to                     \n",
            "==================================================================================================\n",
            "input_1 (InputLayer)            [(None, 80)]         0                                            \n",
            "__________________________________________________________________________________________________\n",
            "embedding (Embedding)           (None, 80, 256)      1406208     input_1[0][0]                    \n",
            "__________________________________________________________________________________________________\n",
            "gru (GRU)                       [(None, 80, 256), (N 393984      embedding[0][0]                  \n",
            "__________________________________________________________________________________________________\n",
            "input_2 (InputLayer)            [(None, None)]       0                                            \n",
            "__________________________________________________________________________________________________\n",
            "gru_1 (GRU)                     [(None, 80, 256), (N 393984      gru[0][0]                        \n",
            "__________________________________________________________________________________________________\n",
            "embedding_1 (Embedding)         (None, None, 256)    1406208     input_2[0][0]                    \n",
            "__________________________________________________________________________________________________\n",
            "gru_2 (GRU)                     [(None, 80, 256), (N 393984      gru_1[0][0]                      \n",
            "__________________________________________________________________________________________________\n",
            "gru_3 (GRU)                     [(None, None, 256),  393984      embedding_1[0][0]                \n",
            "                                                                 gru_2[0][1]                      \n",
            "__________________________________________________________________________________________________\n",
            "time_distributed (TimeDistribut (None, None, 5493)   1411701     gru_3[0][0]                      \n",
            "==================================================================================================\n",
            "Total params: 5,800,053\n",
            "Trainable params: 5,800,053\n",
            "Non-trainable params: 0\n",
            "__________________________________________________________________________________________________\n",
            "Model: \"model_1\"\n",
            "_________________________________________________________________\n",
            "Layer (type)                 Output Shape              Param #   \n",
            "=================================================================\n",
            "input_1 (InputLayer)         [(None, 80)]              0         \n",
            "_________________________________________________________________\n",
            "embedding (Embedding)        (None, 80, 256)           1406208   \n",
            "_________________________________________________________________\n",
            "gru (GRU)                    [(None, 80, 256), (None,  393984    \n",
            "_________________________________________________________________\n",
            "gru_1 (GRU)                  [(None, 80, 256), (None,  393984    \n",
            "_________________________________________________________________\n",
            "gru_2 (GRU)                  [(None, 80, 256), (None,  393984    \n",
            "=================================================================\n",
            "Total params: 2,588,160\n",
            "Trainable params: 2,588,160\n",
            "Non-trainable params: 0\n",
            "_________________________________________________________________\n",
            "self.decoder_inputs (?, ?)\n",
            "self.decoder_state_input (?, 256)\n",
            "self.decoder_outputs (?, ?, 5493)\n",
            "self.state_c (?, 256)\n",
            "Model: \"model_2\"\n",
            "__________________________________________________________________________________________________\n",
            "Layer (type)                    Output Shape         Param #     Connected to                     \n",
            "==================================================================================================\n",
            "input_2 (InputLayer)            [(None, None)]       0                                            \n",
            "__________________________________________________________________________________________________\n",
            "embedding_1 (Embedding)         (None, None, 256)    1406208     input_2[0][0]                    \n",
            "__________________________________________________________________________________________________\n",
            "input_3 (InputLayer)            [(None, 256)]        0                                            \n",
            "__________________________________________________________________________________________________\n",
            "gru_3 (GRU)                     [(None, None, 256),  393984      embedding_1[1][0]                \n",
            "                                                                 input_3[0][0]                    \n",
            "__________________________________________________________________________________________________\n",
            "input_4 (InputLayer)            [(None, 80, 256)]    0                                            \n",
            "__________________________________________________________________________________________________\n",
            "time_distributed (TimeDistribut (None, None, 5493)   1411701     gru_3[1][0]                      \n",
            "==================================================================================================\n",
            "Total params: 3,211,893\n",
            "Trainable params: 3,211,893\n",
            "Non-trainable params: 0\n",
            "__________________________________________________________________________________________________\n"
          ]
        }
      ],
      "source": [
        "with tensorflow.device(\"/gpu:0\"):\n",
        "  seq2seq = MySeq2Seq(hidden_layer_dimensions,embedding_dimensions,global_max_len_data,global_max_article_vocab_size+1,global_max_len_data_highlights, global_max_highlight_vocab_size+1)\n",
        "\n",
        "  seq2seq.create()\n"
      ]
    },
    {
      "cell_type": "code",
      "execution_count": null,
      "metadata": {
        "id": "nb4buq5XdbPY"
      },
      "outputs": [],
      "source": [
        "from tensorflow.keras import callbacks\n",
        "class CustomCallback(callbacks.Callback):\n",
        "    def on_epoch_end(self, epoch, logs=None):\n",
        "        print(\"\\n Epoch {} ended\".format(epoch))\n",
        "        #print(seq2seq.model.layers[1].get_weights())"
      ]
    },
    {
      "cell_type": "markdown",
      "source": [
        "### Creating model"
      ],
      "metadata": {
        "id": "8-xMXRZvq9ss"
      }
    },
    {
      "cell_type": "code",
      "execution_count": null,
      "metadata": {
        "id": "teakG0NDyJmg"
      },
      "outputs": [],
      "source": [
        "#Adding Metrics\n",
        "with tensorflow.device(\"/gpu:0\"):\n",
        "  seq2seq.model.compile(optimizer='rmsprop' , loss='sparse_categorical_crossentropy' , metrics=['accuracy'])"
      ]
    },
    {
      "cell_type": "code",
      "execution_count": null,
      "metadata": {
        "id": "cGuZ1bqgz4Re"
      },
      "outputs": [],
      "source": [
        "#Adding Callback\n",
        "es = EarlyStopping(monitor='val_loss', mode='min', verbose=1, patience=2)"
      ]
    },
    {
      "cell_type": "markdown",
      "source": [
        "### Training and validating model"
      ],
      "metadata": {
        "id": "rOxMcNHPrBej"
      }
    },
    {
      "cell_type": "code",
      "execution_count": null,
      "metadata": {
        "colab": {
          "base_uri": "https://localhost:8080/"
        },
        "id": "5vmTAKKXz7_R",
        "outputId": "7b031f25-ad53-47b4-e558-49c818e09184"
      },
      "outputs": [
        {
          "name": "stdout",
          "output_type": "stream",
          "text": [
            "WARNING:tensorflow:From /usr/local/lib/python3.7/dist-packages/tensorflow_core/python/ops/math_grad.py:1424: where (from tensorflow.python.ops.array_ops) is deprecated and will be removed in a future version.\n",
            "Instructions for updating:\n",
            "Use tf.where in 2.0, which has the same broadcast rule as np.where\n",
            "Train on 17986 samples, validate on 17955 samples\n",
            "Epoch 1/50\n",
            "17984/17986 [============================>.] - ETA: 0s - loss: 2.0385 - acc: 0.7312\n",
            " Epoch 0 ended\n",
            "17986/17986 [==============================] - 83s 5ms/sample - loss: 2.0386 - acc: 0.7312 - val_loss: 1.9197 - val_acc: 0.7449\n",
            "Epoch 2/50\n",
            "17984/17986 [============================>.] - ETA: 0s - loss: 1.8013 - acc: 0.7512\n",
            " Epoch 1 ended\n",
            "17986/17986 [==============================] - 81s 4ms/sample - loss: 1.8013 - acc: 0.7512 - val_loss: 1.8574 - val_acc: 0.7504\n",
            "Epoch 3/50\n",
            "17984/17986 [============================>.] - ETA: 0s - loss: 1.7377 - acc: 0.7544\n",
            " Epoch 2 ended\n",
            "17986/17986 [==============================] - 81s 4ms/sample - loss: 1.7377 - acc: 0.7544 - val_loss: 1.8075 - val_acc: 0.7475\n",
            "Epoch 4/50\n",
            "17984/17986 [============================>.] - ETA: 0s - loss: 1.6904 - acc: 0.7569\n",
            " Epoch 3 ended\n",
            "17986/17986 [==============================] - 81s 5ms/sample - loss: 1.6904 - acc: 0.7569 - val_loss: 1.7782 - val_acc: 0.7542\n",
            "Epoch 5/50\n",
            "17984/17986 [============================>.] - ETA: 0s - loss: 1.6530 - acc: 0.7586\n",
            " Epoch 4 ended\n",
            "17986/17986 [==============================] - 81s 4ms/sample - loss: 1.6529 - acc: 0.7586 - val_loss: 1.7678 - val_acc: 0.7545\n",
            "Epoch 6/50\n",
            "17984/17986 [============================>.] - ETA: 0s - loss: 1.6196 - acc: 0.7612\n",
            " Epoch 5 ended\n",
            "17986/17986 [==============================] - 81s 4ms/sample - loss: 1.6195 - acc: 0.7612 - val_loss: 1.7516 - val_acc: 0.7546\n",
            "Epoch 7/50\n",
            "17984/17986 [============================>.] - ETA: 0s - loss: 1.5880 - acc: 0.7628\n",
            " Epoch 6 ended\n",
            "17986/17986 [==============================] - 81s 4ms/sample - loss: 1.5881 - acc: 0.7628 - val_loss: 1.7413 - val_acc: 0.7566\n",
            "Epoch 8/50\n",
            "17984/17986 [============================>.] - ETA: 0s - loss: 1.5590 - acc: 0.7649\n",
            " Epoch 7 ended\n",
            "17986/17986 [==============================] - 81s 4ms/sample - loss: 1.5590 - acc: 0.7649 - val_loss: 1.7292 - val_acc: 0.7561\n",
            "Epoch 9/50\n",
            "17984/17986 [============================>.] - ETA: 0s - loss: 1.5302 - acc: 0.7664\n",
            " Epoch 8 ended\n",
            "17986/17986 [==============================] - 80s 4ms/sample - loss: 1.5302 - acc: 0.7664 - val_loss: 1.7412 - val_acc: 0.7573\n",
            "Epoch 10/50\n",
            "17984/17986 [============================>.] - ETA: 0s - loss: 1.5014 - acc: 0.7682\n",
            " Epoch 9 ended\n",
            "17986/17986 [==============================] - 81s 4ms/sample - loss: 1.5014 - acc: 0.7682 - val_loss: 1.7343 - val_acc: 0.7577\n",
            "Epoch 11/50\n",
            "17984/17986 [============================>.] - ETA: 0s - loss: 1.4742 - acc: 0.7703\n",
            " Epoch 10 ended\n",
            "17986/17986 [==============================] - 80s 4ms/sample - loss: 1.4742 - acc: 0.7703 - val_loss: 1.7338 - val_acc: 0.7572\n",
            "Epoch 12/50\n",
            "17984/17986 [============================>.] - ETA: 0s - loss: 1.4489 - acc: 0.7721\n",
            " Epoch 11 ended\n",
            "17986/17986 [==============================] - 81s 4ms/sample - loss: 1.4489 - acc: 0.7721 - val_loss: 1.7317 - val_acc: 0.7581\n",
            "Epoch 13/50\n",
            "17984/17986 [============================>.] - ETA: 0s - loss: 1.4234 - acc: 0.7739\n",
            " Epoch 12 ended\n",
            "17986/17986 [==============================] - 81s 4ms/sample - loss: 1.4236 - acc: 0.7739 - val_loss: 1.7337 - val_acc: 0.7568\n",
            "Epoch 14/50\n",
            "17984/17986 [============================>.] - ETA: 0s - loss: 1.3961 - acc: 0.7757\n",
            " Epoch 13 ended\n",
            "17986/17986 [==============================] - 80s 4ms/sample - loss: 1.3961 - acc: 0.7757 - val_loss: 1.7383 - val_acc: 0.7556\n",
            "Epoch 15/50\n",
            "17984/17986 [============================>.] - ETA: 0s - loss: 1.3715 - acc: 0.7778\n",
            " Epoch 14 ended\n",
            "17986/17986 [==============================] - 80s 4ms/sample - loss: 1.3715 - acc: 0.7778 - val_loss: 1.7326 - val_acc: 0.7558\n",
            "Epoch 16/50\n",
            "17984/17986 [============================>.] - ETA: 0s - loss: 1.3469 - acc: 0.7802\n",
            " Epoch 15 ended\n",
            "17986/17986 [==============================] - 81s 4ms/sample - loss: 1.3470 - acc: 0.7802 - val_loss: 1.7438 - val_acc: 0.7546\n",
            "Epoch 17/50\n",
            "17984/17986 [============================>.] - ETA: 0s - loss: 1.3229 - acc: 0.7827\n",
            " Epoch 16 ended\n",
            "17986/17986 [==============================] - 83s 5ms/sample - loss: 1.3230 - acc: 0.7827 - val_loss: 1.7482 - val_acc: 0.7522\n",
            "Epoch 18/50\n",
            "17984/17986 [============================>.] - ETA: 0s - loss: 1.2984 - acc: 0.7851\n",
            " Epoch 17 ended\n",
            "17986/17986 [==============================] - 80s 4ms/sample - loss: 1.2984 - acc: 0.7852 - val_loss: 1.7501 - val_acc: 0.7547\n",
            "Epoch 19/50\n",
            "17984/17986 [============================>.] - ETA: 0s - loss: 1.2782 - acc: 0.7876\n",
            " Epoch 18 ended\n",
            "17986/17986 [==============================] - 81s 4ms/sample - loss: 1.2781 - acc: 0.7876 - val_loss: 1.7596 - val_acc: 0.7551\n",
            "Epoch 20/50\n",
            "17984/17986 [============================>.] - ETA: 0s - loss: 1.2570 - acc: 0.7901\n",
            " Epoch 19 ended\n",
            "17986/17986 [==============================] - 81s 4ms/sample - loss: 1.2570 - acc: 0.7901 - val_loss: 1.7712 - val_acc: 0.7559\n",
            "Epoch 21/50\n",
            "17984/17986 [============================>.] - ETA: 0s - loss: 1.2342 - acc: 0.7929\n",
            " Epoch 20 ended\n",
            "17986/17986 [==============================] - 80s 4ms/sample - loss: 1.2343 - acc: 0.7929 - val_loss: 1.7786 - val_acc: 0.7512\n",
            "Epoch 22/50\n",
            "17984/17986 [============================>.] - ETA: 0s - loss: 1.2133 - acc: 0.7957\n",
            " Epoch 21 ended\n",
            "17986/17986 [==============================] - 80s 4ms/sample - loss: 1.2133 - acc: 0.7957 - val_loss: 1.7776 - val_acc: 0.7541\n",
            "Epoch 23/50\n",
            "17984/17986 [============================>.] - ETA: 0s - loss: 1.1922 - acc: 0.7980\n",
            " Epoch 22 ended\n",
            "17986/17986 [==============================] - 80s 4ms/sample - loss: 1.1923 - acc: 0.7980 - val_loss: 1.7891 - val_acc: 0.7515\n",
            "Epoch 24/50\n",
            "17984/17986 [============================>.] - ETA: 0s - loss: 1.1736 - acc: 0.8012\n",
            " Epoch 23 ended\n",
            "17986/17986 [==============================] - 80s 4ms/sample - loss: 1.1736 - acc: 0.8012 - val_loss: 1.8000 - val_acc: 0.7502\n",
            "Epoch 25/50\n",
            "17984/17986 [============================>.] - ETA: 0s - loss: 1.1542 - acc: 0.8039\n",
            " Epoch 24 ended\n",
            "17986/17986 [==============================] - 80s 4ms/sample - loss: 1.1541 - acc: 0.8039 - val_loss: 1.8046 - val_acc: 0.7518\n",
            "Epoch 26/50\n",
            "17984/17986 [============================>.] - ETA: 0s - loss: 1.1389 - acc: 0.8071\n",
            " Epoch 25 ended\n",
            "17986/17986 [==============================] - 81s 4ms/sample - loss: 1.1389 - acc: 0.8071 - val_loss: 1.8210 - val_acc: 0.7463\n",
            "Epoch 27/50\n",
            "17984/17986 [============================>.] - ETA: 0s - loss: 1.1246 - acc: 0.8090\n",
            " Epoch 26 ended\n",
            "17986/17986 [==============================] - 81s 4ms/sample - loss: 1.1246 - acc: 0.8090 - val_loss: 1.8345 - val_acc: 0.7479\n",
            "Epoch 28/50\n",
            "17984/17986 [============================>.] - ETA: 0s - loss: 1.1117 - acc: 0.8121\n",
            " Epoch 27 ended\n",
            "17986/17986 [==============================] - 80s 4ms/sample - loss: 1.1116 - acc: 0.8121 - val_loss: 1.8351 - val_acc: 0.7509\n",
            "Epoch 29/50\n",
            "17984/17986 [============================>.] - ETA: 0s - loss: 1.1004 - acc: 0.8142\n",
            " Epoch 28 ended\n",
            "17986/17986 [==============================] - 80s 4ms/sample - loss: 1.1005 - acc: 0.8142 - val_loss: 1.8406 - val_acc: 0.7479\n",
            "Epoch 30/50\n",
            "17984/17986 [============================>.] - ETA: 0s - loss: 1.0875 - acc: 0.8171\n",
            " Epoch 29 ended\n",
            "17986/17986 [==============================] - 80s 4ms/sample - loss: 1.0875 - acc: 0.8171 - val_loss: 1.8488 - val_acc: 0.7470\n",
            "Epoch 31/50\n",
            "17984/17986 [============================>.] - ETA: 0s - loss: 1.0796 - acc: 0.8201\n",
            " Epoch 30 ended\n",
            "17986/17986 [==============================] - 80s 4ms/sample - loss: 1.0796 - acc: 0.8201 - val_loss: 1.8596 - val_acc: 0.7486\n",
            "Epoch 32/50\n",
            "17984/17986 [============================>.] - ETA: 0s - loss: 1.0672 - acc: 0.8226\n",
            " Epoch 31 ended\n",
            "17986/17986 [==============================] - 80s 4ms/sample - loss: 1.0673 - acc: 0.8226 - val_loss: 1.8740 - val_acc: 0.7446\n",
            "Epoch 33/50\n",
            "17984/17986 [============================>.] - ETA: 0s - loss: 1.0597 - acc: 0.8249\n",
            " Epoch 32 ended\n",
            "17986/17986 [==============================] - 81s 4ms/sample - loss: 1.0598 - acc: 0.8249 - val_loss: 1.8744 - val_acc: 0.7468\n",
            "Epoch 34/50\n",
            "17984/17986 [============================>.] - ETA: 0s - loss: 1.0489 - acc: 0.8275\n",
            " Epoch 33 ended\n",
            "17986/17986 [==============================] - 81s 4ms/sample - loss: 1.0488 - acc: 0.8275 - val_loss: 1.8995 - val_acc: 0.7469\n",
            "Epoch 35/50\n",
            "17984/17986 [============================>.] - ETA: 0s - loss: 1.0396 - acc: 0.8298\n",
            " Epoch 34 ended\n",
            "17986/17986 [==============================] - 81s 5ms/sample - loss: 1.0396 - acc: 0.8298 - val_loss: 1.8952 - val_acc: 0.7467\n",
            "Epoch 36/50\n",
            "17984/17986 [============================>.] - ETA: 0s - loss: 1.0304 - acc: 0.8324\n",
            " Epoch 35 ended\n",
            "17986/17986 [==============================] - 81s 4ms/sample - loss: 1.0304 - acc: 0.8324 - val_loss: 1.9066 - val_acc: 0.7472\n",
            "Epoch 37/50\n",
            "17984/17986 [============================>.] - ETA: 0s - loss: 1.0227 - acc: 0.8340\n",
            " Epoch 36 ended\n",
            "17986/17986 [==============================] - 80s 4ms/sample - loss: 1.0228 - acc: 0.8340 - val_loss: 1.9180 - val_acc: 0.7456\n",
            "Epoch 38/50\n",
            "17984/17986 [============================>.] - ETA: 0s - loss: 1.0125 - acc: 0.8365\n",
            " Epoch 37 ended\n",
            "17986/17986 [==============================] - 80s 4ms/sample - loss: 1.0125 - acc: 0.8365 - val_loss: 1.9207 - val_acc: 0.7469\n",
            "Epoch 39/50\n",
            "17984/17986 [============================>.] - ETA: 0s - loss: 1.0050 - acc: 0.8385\n",
            " Epoch 38 ended\n",
            "17986/17986 [==============================] - 81s 4ms/sample - loss: 1.0049 - acc: 0.8385 - val_loss: 1.9337 - val_acc: 0.7462\n",
            "Epoch 40/50\n",
            "17984/17986 [============================>.] - ETA: 0s - loss: 0.9956 - acc: 0.8403\n",
            " Epoch 39 ended\n",
            "17986/17986 [==============================] - 81s 4ms/sample - loss: 0.9956 - acc: 0.8403 - val_loss: 1.9385 - val_acc: 0.7446\n",
            "Epoch 41/50\n",
            "17984/17986 [============================>.] - ETA: 0s - loss: 0.9865 - acc: 0.8424\n",
            " Epoch 40 ended\n",
            "17986/17986 [==============================] - 81s 4ms/sample - loss: 0.9865 - acc: 0.8424 - val_loss: 1.9469 - val_acc: 0.7458\n",
            "Epoch 42/50\n",
            "17984/17986 [============================>.] - ETA: 0s - loss: 0.9788 - acc: 0.8441\n",
            " Epoch 41 ended\n",
            "17986/17986 [==============================] - 81s 4ms/sample - loss: 0.9789 - acc: 0.8441 - val_loss: 1.9493 - val_acc: 0.7429\n",
            "Epoch 43/50\n",
            "17984/17986 [============================>.] - ETA: 0s - loss: 0.9696 - acc: 0.8462\n",
            " Epoch 42 ended\n",
            "17986/17986 [==============================] - 81s 4ms/sample - loss: 0.9696 - acc: 0.8462 - val_loss: 1.9543 - val_acc: 0.7449\n",
            "Epoch 44/50\n",
            "17984/17986 [============================>.] - ETA: 0s - loss: 0.9612 - acc: 0.8485\n",
            " Epoch 43 ended\n",
            "17986/17986 [==============================] - 82s 5ms/sample - loss: 0.9612 - acc: 0.8485 - val_loss: 1.9616 - val_acc: 0.7445\n",
            "Epoch 45/50\n",
            "17984/17986 [============================>.] - ETA: 0s - loss: 0.9535 - acc: 0.8491\n",
            " Epoch 44 ended\n",
            "17986/17986 [==============================] - 82s 5ms/sample - loss: 0.9535 - acc: 0.8491 - val_loss: 1.9705 - val_acc: 0.7428\n",
            "Epoch 46/50\n",
            "17984/17986 [============================>.] - ETA: 0s - loss: 0.9443 - acc: 0.8509\n",
            " Epoch 45 ended\n",
            "17986/17986 [==============================] - 81s 4ms/sample - loss: 0.9443 - acc: 0.8509 - val_loss: 1.9704 - val_acc: 0.7448\n",
            "Epoch 47/50\n",
            "17984/17986 [============================>.] - ETA: 0s - loss: 0.9354 - acc: 0.8532\n",
            " Epoch 46 ended\n",
            "17986/17986 [==============================] - 80s 4ms/sample - loss: 0.9356 - acc: 0.8532 - val_loss: 1.9832 - val_acc: 0.7450\n",
            "Epoch 48/50\n",
            "17984/17986 [============================>.] - ETA: 0s - loss: 0.9256 - acc: 0.8550\n",
            " Epoch 47 ended\n",
            "17986/17986 [==============================] - 81s 4ms/sample - loss: 0.9255 - acc: 0.8550 - val_loss: 1.9808 - val_acc: 0.7444\n",
            "Epoch 49/50\n",
            "17984/17986 [============================>.] - ETA: 0s - loss: 0.9184 - acc: 0.8558\n",
            " Epoch 48 ended\n",
            "17986/17986 [==============================] - 81s 4ms/sample - loss: 0.9185 - acc: 0.8558 - val_loss: 1.9882 - val_acc: 0.7438\n",
            "Epoch 50/50\n",
            "17984/17986 [============================>.] - ETA: 0s - loss: 0.9102 - acc: 0.8578\n",
            " Epoch 49 ended\n",
            "17986/17986 [==============================] - 81s 4ms/sample - loss: 0.9103 - acc: 0.8578 - val_loss: 1.9879 - val_acc: 0.7437\n"
          ]
        }
      ],
      "source": [
        "with tensorflow.device(\"/gpu:0\"):\n",
        "  history = seq2seq.model.fit([padded_seq,padded_seq_highlight[:,:-1]], padded_seq_highlight.reshape(padded_seq_highlight.shape[0],padded_seq_highlight.shape[1], 1)[:,1:] ,epochs=50,callbacks=[CustomCallback()],batch_size= 64, validation_data=([padded_val_seq_data,padded_val_seq_highlight[:,:-1]], padded_val_seq_highlight.reshape(padded_val_seq_highlight.shape[0],padded_val_seq_highlight.shape[1], 1)[:,1:]))\n"
      ]
    },
    {
      "cell_type": "markdown",
      "source": [
        "### Visualization of training and validation accuracy and loss"
      ],
      "metadata": {
        "id": "otijWj8nrHM1"
      }
    },
    {
      "cell_type": "code",
      "execution_count": null,
      "metadata": {
        "colab": {
          "base_uri": "https://localhost:8080/",
          "height": 281
        },
        "id": "RXhQVK-U-A-l",
        "outputId": "8575a6fd-199e-4151-9464-f5cf65613dfc"
      },
      "outputs": [
        {
          "output_type": "display_data",
          "data": {
            "text/plain": [
              "<Figure size 432x288 with 1 Axes>"
            ],
            "image/png": "[encoded data removed]"
          },
          "metadata": {
            "needs_background": "light"
          }
        }
      ],
      "source": [
        "from matplotlib import pyplot\n",
        "pyplot.plot(history.history['acc'], label='train') \n",
        "pyplot.plot(history.history['val_acc'], label='validation') \n",
        "pyplot.title(\"Training and Validation Accuracy\")\n",
        "pyplot.legend() \n",
        "pyplot.show()"
      ]
    },
    {
      "cell_type": "code",
      "execution_count": null,
      "metadata": {
        "id": "r9Tgvwuc8mAw",
        "colab": {
          "base_uri": "https://localhost:8080/",
          "height": 281
        },
        "outputId": "e4ecc891-b654-4549-8959-9162701b2ac4"
      },
      "outputs": [
        {
          "output_type": "display_data",
          "data": {
            "text/plain": [
              "<Figure size 432x288 with 1 Axes>"
            ],
            "image/png": "[encoded data removed]"
          },
          "metadata": {
            "needs_background": "light"
          }
        }
      ],
      "source": [
        "pyplot.plot(history.history['loss'], label='train') \n",
        "pyplot.plot(history.history['val_loss'], label='validation') \n",
        "pyplot.title(\"Training and Validation Loss\")\n",
        "pyplot.legend() \n",
        "pyplot.show()"
      ]
    },
    {
      "cell_type": "markdown",
      "source": [
        "### Inference phase"
      ],
      "metadata": {
        "id": "L6IXAndArYZw"
      }
    },
    {
      "cell_type": "code",
      "execution_count": null,
      "metadata": {
        "id": "OHvSWIVUAlYk"
      },
      "outputs": [],
      "source": [
        "def infer_results(padded_test_seq_data):\n",
        "  All_sentences = []\n",
        "  for i in range(len(padded_test_seq_data)):\n",
        "    # the input sequence to the encoder is the text data\n",
        "    inputseq = padded_test_seq_data[i].reshape(1,global_max_len_data)\n",
        "    encoder_op,encoder_c=seq2seq.encoder_testing.predict(inputseq)\n",
        "    infered_op = np.zeros((1,1))\n",
        "\n",
        "    # start token is sent to the decoder to infer outputs.\n",
        "    infered_op[0,0] = 2\n",
        "    decoded_sent=[]\n",
        "    reverse_words = Y_token.index_word\n",
        "    while True:\n",
        "      decoder_op,decoder_c=seq2seq.decoder_testing.predict([infered_op]+[encoder_op,encoder_c])\n",
        "      token_index=np.argmax(decoder_op[0,-1,:])\n",
        "      token=reverse_words[token_index]\n",
        "\n",
        "      if token==\"<UNK>\" or token==\"eos\" or len(decoded_sent)>=global_max_len_data_highlights:\n",
        "        #break the loop if unknown or end of sequence token is reached\n",
        "        break\n",
        "\n",
        "      if token!=\"<UNK>\" or token!=\"eos\":\n",
        "        decoded_sent.append(token)\n",
        "\n",
        "      # for the next time step, the word infered in the previous time-step is sent as a input token.\n",
        "      infered_op[0,0]  = token_index\n",
        "\n",
        "      # state variables are set to pervious time step data for encoding.\n",
        "      encoder_c=decoder_c\n",
        "\n",
        "    sent = \" \".join(decoded_sent)\n",
        "    All_sentences.append(sent)\n",
        "  return All_sentences\n",
        "All_sentences = infer_results(padded_test_seq_data)"
      ]
    },
    {
      "cell_type": "markdown",
      "source": [
        "### Rouge Metric:\n",
        "\n",
        "We have used Rouge score to compare the predicted summary and the actual summary to find the Precision, Recall and F1 scores."
      ],
      "metadata": {
        "id": "bDWb7Ys-3Jo6"
      }
    },
    {
      "cell_type": "code",
      "execution_count": null,
      "metadata": {
        "colab": {
          "base_uri": "https://localhost:8080/"
        },
        "id": "bvjvXk-ROceE",
        "outputId": "54c57da1-385e-4f12-d8de-cbb0ec41347e"
      },
      "outputs": [
        {
          "name": "stdout",
          "output_type": "stream",
          "text": [
            "Collecting rouge\n",
            "  Downloading rouge-1.0.1-py3-none-any.whl (13 kB)\n",
            "Requirement already satisfied: six in /usr/local/lib/python3.7/dist-packages (from rouge) (1.15.0)\n",
            "Installing collected packages: rouge\n",
            "Successfully installed rouge-1.0.1\n"
          ]
        }
      ],
      "source": [
        "!pip install rouge"
      ]
    },
    {
      "cell_type": "code",
      "execution_count": null,
      "metadata": {
        "id": "rzn_HzOWnTay"
      },
      "outputs": [],
      "source": [
        "from rouge import Rouge\n",
        "rouge = Rouge()"
      ]
    },
    {
      "cell_type": "code",
      "execution_count": null,
      "metadata": {
        "id": "QXfWzkkXINxg",
        "colab": {
          "base_uri": "https://localhost:8080/"
        },
        "outputId": "68643649-f778-42b3-8687-0f1348f1b05e"
      },
      "outputs": [
        {
          "output_type": "stream",
          "name": "stdout",
          "text": [
            "18017\n",
            "Presicion: 0.12566400506263112\n",
            "Recall: 0.10725012341936768\n",
            "F1: 0.10981405649953728\n"
          ]
        }
      ],
      "source": [
        "# Calculation of Precision, Recall, f1 score from Rouge1 scores generated. \n",
        "# We have displayed the avergae of all these metrics.\n",
        "\n",
        "presicion = []\n",
        "recall = []\n",
        "f1 = []\n",
        "print(len(All_sentences))\n",
        "for (h, r) in zip(All_sentences, format_test_highlight):\n",
        "    if h != \"\" and r != \"\":\n",
        "      score = rouge.get_scores(h, r)\n",
        "      # print(score)\n",
        "      s = score[0]['rouge-1']\n",
        "      presicion.append(s[\"p\"])\n",
        "      recall.append(s[\"r\"])\n",
        "      f1.append(s[\"f\"])\n",
        "\n",
        "print(\"Presicion:\",sum(presicion)/len(presicion))\n",
        "print(\"Recall:\", sum(recall)/len(recall))\n",
        "print(\"F1:\",sum(f1)/len(f1))"
      ]
    },
    {
      "cell_type": "markdown",
      "source": [
        "### Inferred results visualization\n",
        "\n",
        "Following cells show some good examples of text summerization as well as some failed examples on Amazon dataset."
      ],
      "metadata": {
        "id": "uheYLIItUcaO"
      }
    },
    {
      "cell_type": "markdown",
      "source": [
        "##### Some Good examples:"
      ],
      "metadata": {
        "id": "f4U55IK5UVn6"
      }
    },
    {
      "cell_type": "code",
      "execution_count": null,
      "metadata": {
        "id": "TJNDURAGXjva",
        "colab": {
          "base_uri": "https://localhost:8080/"
        },
        "outputId": "c8193df6-9c4a-4542-d013-4e232f2a1c95"
      },
      "outputs": [
        {
          "output_type": "stream",
          "name": "stdout",
          "text": [
            "Article:   come across compel reason online add daily nutritional supplement buy product tell open jar skedish down tablespoon stuff first add oatmeal actually enhance flavor next move allow liquefy down tablespoon right jar delight wonderful taste\n",
            "Actual Highlights:   wonderful flavor smell and consistency\n",
            "Predicted HIghlighs:  the perfect food\n"
          ]
        }
      ],
      "source": [
        "index = 100\n",
        "print(\"Article:  \",format_test_data[index])\n",
        "print(\"Actual Highlights:  \",format_test_highlight[index])\n",
        "print(\"Predicted HIghlighs: \",All_sentences[index])"
      ]
    },
    {
      "cell_type": "code",
      "source": [
        "index = 2682\n",
        "print(\"Article:  \",format_test_data[index])\n",
        "print(\"Actual Highlights:  \",format_test_highlight[index])\n",
        "print(\"Predicted HIghlighs: \",All_sentences[index])"
      ],
      "metadata": {
        "colab": {
          "base_uri": "https://localhost:8080/"
        },
        "id": "6op5izW8Ugbj",
        "outputId": "bcf95c90-12fc-43de-c081-ac2c8c51cb83"
      },
      "execution_count": null,
      "outputs": [
        {
          "output_type": "stream",
          "name": "stdout",
          "text": [
            "Article:   like vitacoco drink crazy acai pomegranate flavor others otherwise satisfy healthy refreshing\n",
            "Actual Highlights:   good drink\n",
            "Predicted HIghlighs:  not bad great\n"
          ]
        }
      ]
    },
    {
      "cell_type": "code",
      "source": [
        "index = 4411\n",
        "print(\"Article:  \",format_test_data[index])\n",
        "print(\"Actual Highlights:  \",format_test_highlight[index])\n",
        "print(\"Predicted HIghlighs: \",All_sentences[index])"
      ],
      "metadata": {
        "colab": {
          "base_uri": "https://localhost:8080/"
        },
        "id": "i4ob7GT3Umw5",
        "outputId": "fe13ea28-9999-42d5-94c1-201895385dc9"
      },
      "execution_count": null,
      "outputs": [
        {
          "output_type": "stream",
          "name": "stdout",
          "text": [
            "Article:   love peanut sauce kick find one local grocery store without home ever since but grocery store start stock sporadically search amazon com found could buy great addition great many dish put celery snack rice flavor booster chicken recommend\n",
            "Actual Highlights:   the best\n",
            "Predicted HIghlighs:  fantastic product\n"
          ]
        }
      ]
    },
    {
      "cell_type": "code",
      "source": [
        "index = 10569\n",
        "print(\"Article:  \",format_test_data[index])\n",
        "print(\"Actual Highlights:  \",format_test_highlight[index])\n",
        "print(\"Predicted HIghlighs: \",All_sentences[index])"
      ],
      "metadata": {
        "colab": {
          "base_uri": "https://localhost:8080/"
        },
        "id": "OnaS3ZwhU6Cg",
        "outputId": "afc50cd6-33ff-449a-a5c0-445217ee8f06"
      },
      "execution_count": null,
      "outputs": [
        {
          "output_type": "stream",
          "name": "stdout",
          "text": [
            "Article:   friend party find looked first good little pricey get buy good\n",
            "Actual Highlights:   yum\n",
            "Predicted HIghlighs:  best\n"
          ]
        }
      ]
    },
    {
      "cell_type": "code",
      "source": [
        "index = 14484\n",
        "print(\"Article:  \",format_test_data[index])\n",
        "print(\"Actual Highlights:  \",format_test_highlight[index])\n",
        "print(\"Predicted HIghlighs: \",All_sentences[index])"
      ],
      "metadata": {
        "colab": {
          "base_uri": "https://localhost:8080/"
        },
        "id": "32mhgC-nVK1x",
        "outputId": "d5e49082-f432-4a10-986e-c879e3e8101b"
      },
      "execution_count": null,
      "outputs": [
        {
          "output_type": "stream",
          "name": "stdout",
          "text": [
            "Article:   order twice year the come excellent condition within day order\n",
            "Actual Highlights:   great product great service seller\n",
            "Predicted HIghlighs:  excellent product\n"
          ]
        }
      ]
    },
    {
      "cell_type": "code",
      "source": [
        "index = 6888\n",
        "print(\"Article:  \",format_test_data[index])\n",
        "print(\"Actual Highlights:  \",format_test_highlight[index])\n",
        "print(\"Predicted HIghlighs: \",All_sentences[index])"
      ],
      "metadata": {
        "colab": {
          "base_uri": "https://localhost:8080/"
        },
        "id": "-V8OrHm9VQTs",
        "outputId": "b3a6c7f3-9e37-477c-c19e-35e01830cd16"
      },
      "execution_count": null,
      "outputs": [
        {
          "output_type": "stream",
          "name": "stdout",
          "text": [
            "Article:   get scream deal buying store would order price\n",
            "Actual Highlights:   awesome deal\n",
            "Predicted HIghlighs:  great product\n"
          ]
        }
      ]
    },
    {
      "cell_type": "markdown",
      "source": [
        "##### Some Failed examples:"
      ],
      "metadata": {
        "id": "2bcLe9bwVZGR"
      }
    },
    {
      "cell_type": "code",
      "source": [
        "index = 21\n",
        "print(\"Article:  \",format_test_data[index])\n",
        "print(\"Actual Highlights:  \",format_test_highlight[index])\n",
        "print(\"Predicted HIghlighs: \",All_sentences[index])"
      ],
      "metadata": {
        "colab": {
          "base_uri": "https://localhost:8080/"
        },
        "id": "CyAhrDEqVbHI",
        "outputId": "84c36538-673d-4352-ad45-fd518e4c4bc1"
      },
      "execution_count": null,
      "outputs": [
        {
          "output_type": "stream",
          "name": "stdout",
          "text": [
            "Article:   for anyone never eat mind blown especially eat brand pop tart use artificial flavor color preservative gmos bad these taste well better they make real ingredient feel sorry never try continue eat brand you be miss out it win win situation would nice buy keep mind grocery store health food store find walmart you find many place nature path one best organic company top great support\n",
            "Actual Highlights:   you cannot wrong\n",
            "Predicted HIghlighs:  cannot live without\n"
          ]
        }
      ]
    },
    {
      "cell_type": "code",
      "source": [
        "index = 87\n",
        "print(\"Article:  \",format_test_data[index])\n",
        "print(\"Actual Highlights:  \",format_test_highlight[index])\n",
        "print(\"Predicted HIghlighs: \",All_sentences[index])"
      ],
      "metadata": {
        "colab": {
          "base_uri": "https://localhost:8080/"
        },
        "id": "y72kewWNVhX2",
        "outputId": "ab3f08a7-d15e-4dd6-9b7b-9f66f8e9f3c8"
      },
      "execution_count": null,
      "outputs": [
        {
          "output_type": "stream",
          "name": "stdout",
          "text": [
            "Article:   bully stick expensive store when saw deal think great value worry would thinner good quality great stuff would pet store dog love know keep always get excited every time open closet door cannot want another bully stick\n",
            "Actual Highlights:   dog love thing\n",
            "Predicted HIghlighs:  best price find\n"
          ]
        }
      ]
    },
    {
      "cell_type": "code",
      "source": [
        "index = 985\n",
        "print(\"Article:  \",format_test_data[index])\n",
        "print(\"Actual Highlights:  \",format_test_highlight[index])\n",
        "print(\"Predicted HIghlighs: \",All_sentences[index])"
      ],
      "metadata": {
        "colab": {
          "base_uri": "https://localhost:8080/"
        },
        "id": "e_rE-Y4yVnAv",
        "outputId": "7f3f280e-c9e0-4fb9-bd58-87b230ccb8a8"
      },
      "execution_count": null,
      "outputs": [
        {
          "output_type": "stream",
          "name": "stdout",
          "text": [
            "Article:   these jelly bean small big taste find laugh taste much like real thing some flavor totally shock cappuccino juicy pear cantaloupe peach margarita taste like real thing they fresh soft they also come jelly belly chart back container show picture jelly beans description wonderful deal sale buy another\n",
            "Actual Highlights:   wow taste like real thing\n",
            "Predicted HIghlighs:  not\n"
          ]
        }
      ]
    },
    {
      "cell_type": "code",
      "source": [
        "index = 14517\n",
        "print(\"Article:  \",format_test_data[index])\n",
        "print(\"Actual Highlights:  \",format_test_highlight[index])\n",
        "print(\"Predicted HIghlighs: \",All_sentences[index])"
      ],
      "metadata": {
        "colab": {
          "base_uri": "https://localhost:8080/"
        },
        "id": "yaLAQYZsVqUh",
        "outputId": "c32a0f52-f5a4-4a22-dbb3-3872bdefab79"
      },
      "execution_count": null,
      "outputs": [
        {
          "output_type": "stream",
          "name": "stdout",
          "text": [
            "Article:   these treat month old boston terrier favorite treat far give natural treat wheat ton add filler know house happy give something else\n",
            "Actual Highlights:   boston favorite\n",
            "Predicted HIghlighs:  the dog love\n"
          ]
        }
      ]
    },
    {
      "cell_type": "code",
      "source": [
        "index = 1597\n",
        "print(\"Article:  \",format_test_data[index])\n",
        "print(\"Actual Highlights:  \",format_test_highlight[index])\n",
        "print(\"Predicted HIghlighs: \",All_sentences[index])"
      ],
      "metadata": {
        "colab": {
          "base_uri": "https://localhost:8080/"
        },
        "id": "-egOv3_uVttt",
        "outputId": "265b8485-0111-4d5c-9401-baf79a49ad17"
      },
      "execution_count": null,
      "outputs": [
        {
          "output_type": "stream",
          "name": "stdout",
          "text": [
            "Article:   annie deluxe macaroni cheese quick prepare tasty speedy meal sometimes add cubed ham peas package another option bulk pricing amazon plus\n",
            "Actual Highlights:   annie deluxe macaroni cheese\n",
            "Predicted HIghlighs:  never enough without sugar\n"
          ]
        }
      ]
    }
  ],
  "metadata": {
    "accelerator": "GPU",
    "colab": {
      "collapsed_sections": [],
      "name": "GRU_Amazon_dataset_20k_final.ipynb",
      "provenance": []
    },
    "kernelspec": {
      "display_name": "Python 3",
      "language": "python",
      "name": "python3"
    },
    "language_info": {
      "codemirror_mode": {
        "name": "ipython",
        "version": 3
      },
      "file_extension": ".py",
      "mimetype": "text/x-python",
      "name": "python",
      "nbconvert_exporter": "python",
      "pygments_lexer": "ipython3",
      "version": "3.8.3"
    }
  },
  "nbformat": 4,
  "nbformat_minor": 0
}