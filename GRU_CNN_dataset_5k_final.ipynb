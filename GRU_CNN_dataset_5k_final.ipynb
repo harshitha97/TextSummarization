{
  "cells": [
    {
      "cell_type": "markdown",
      "source": [
        "\n",
        "This notebook runs the text summerizer on CNN/Daily mail dataset using Gated Recurrent Units architecture in Recurrent Neural Networks. Dataset size : 5000"
      ],
      "metadata": {
        "id": "doq-m1SBh4fD"
      }
    },
    {
      "cell_type": "markdown",
      "source": [
        "Installing necessary librabries.\n",
        "\n",
        "We have downgraded Keras and Tensorflow as were facing an issue during inference phase."
      ],
      "metadata": {
        "id": "DqlLN1PHiAIh"
      }
    },
    {
      "cell_type": "code",
      "execution_count": null,
      "metadata": {
        "id": "b9wve2j3thA7"
      },
      "outputs": [],
      "source": [
        "# !pip install q keras==2.2.4\n",
        "# !pip install q tensorflow==1.15.2\n",
        "# !pip install q numpy==1.19.5\n",
        "# !pip install tensorflow-gpu==1.15.2  # GPU\n",
        "# !pip install contractions"
      ]
    },
    {
      "cell_type": "code",
      "execution_count": null,
      "metadata": {
        "colab": {
          "base_uri": "https://localhost:8080/"
        },
        "id": "BbrrBhe7OWck",
        "outputId": "f58c8259-4bba-4f77-9af4-ccf70e88b395"
      },
      "outputs": [
        {
          "output_type": "stream",
          "name": "stdout",
          "text": [
            "[nltk_data] Downloading package wordnet to /root/nltk_data...\n",
            "[nltk_data]   Unzipping corpora/wordnet.zip.\n",
            "[nltk_data] Downloading package averaged_perceptron_tagger to\n",
            "[nltk_data]     /root/nltk_data...\n",
            "[nltk_data]   Unzipping taggers/averaged_perceptron_tagger.zip.\n"
          ]
        }
      ],
      "source": [
        "import numpy as np\n",
        "import pandas as pd\n",
        "import os\n",
        "from zipfile import ZipFile\n",
        "from pathlib import Path\n",
        "from io import StringIO\n",
        "import string  \n",
        "import nltk\n",
        "from nltk.tokenize import sent_tokenize, word_tokenize\n",
        "from nltk.corpus import stopwords \n",
        "import nltk\n",
        "nltk.download(\"wordnet\")\n",
        "nltk.download('averaged_perceptron_tagger')\n",
        "from nltk.stem import WordNetLemmatizer\n",
        "import contractions\n",
        "from nltk.corpus import wordnet\n",
        "import re\n",
        "from tensorflow.keras.preprocessing.text import Tokenizer\n",
        "from tensorflow.keras.preprocessing.sequence import pad_sequences"
      ]
    },
    {
      "cell_type": "code",
      "execution_count": null,
      "metadata": {
        "colab": {
          "base_uri": "https://localhost:8080/"
        },
        "id": "R-wcEy6FtJoC",
        "outputId": "53dfab27-cfbb-47aa-ce9e-2e6d033204fd"
      },
      "outputs": [
        {
          "output_type": "stream",
          "name": "stdout",
          "text": [
            "2.2.4\n",
            "1.15.2\n"
          ]
        },
        {
          "output_type": "stream",
          "name": "stderr",
          "text": [
            "Using TensorFlow backend.\n"
          ]
        }
      ],
      "source": [
        "import keras\n",
        "import tensorflow\n",
        "# import tensorflow-gpu\n",
        "print(keras.__version__)\n",
        "print(tensorflow.__version__)\n",
        "# print(tensorflow-gpu.__version__)"
      ]
    },
    {
      "cell_type": "code",
      "execution_count": null,
      "metadata": {
        "colab": {
          "base_uri": "https://localhost:8080/"
        },
        "id": "I9HmZR0ZiZYh",
        "outputId": "da658350-545b-423f-95c0-8f37db7944fe"
      },
      "outputs": [
        {
          "output_type": "stream",
          "name": "stdout",
          "text": [
            "Found GPU at: /device:GPU:0\n"
          ]
        }
      ],
      "source": [
        "device_name = tensorflow.test.gpu_device_name()\n",
        "if device_name != '/device:GPU:0':\n",
        "  raise SystemError('GPU device not found')\n",
        "print('Found GPU at: {}'.format(device_name))"
      ]
    },
    {
      "cell_type": "code",
      "execution_count": null,
      "metadata": {
        "id": "lE_bDb_FrjFO"
      },
      "outputs": [],
      "source": [
        "from tensorflow.keras.layers import LSTM,Input, GRU, Attention, Embedding, Dense, Concatenate, TimeDistributed   #Layers required to implement the model\n",
        "from tensorflow.keras.models import Model\n",
        "from tensorflow.keras.callbacks import EarlyStopping\n",
        "from keras import backend as K\n",
        "# from keras import Input"
      ]
    },
    {
      "cell_type": "code",
      "execution_count": null,
      "metadata": {
        "colab": {
          "base_uri": "https://localhost:8080/"
        },
        "id": "C6qA0swZo2GG",
        "outputId": "fac2497f-c906-488e-f074-49e73e522b06"
      },
      "outputs": [
        {
          "output_type": "stream",
          "name": "stdout",
          "text": [
            "[nltk_data] Downloading package stopwords to /root/nltk_data...\n",
            "[nltk_data]   Unzipping corpora/stopwords.zip.\n",
            "[nltk_data] Downloading package punkt to /root/nltk_data...\n",
            "[nltk_data]   Unzipping tokenizers/punkt.zip.\n"
          ]
        },
        {
          "output_type": "execute_result",
          "data": {
            "text/plain": [
              "True"
            ]
          },
          "metadata": {},
          "execution_count": 6
        }
      ],
      "source": [
        "nltk.download('stopwords')\n",
        "nltk.download('punkt')"
      ]
    },
    {
      "cell_type": "markdown",
      "source": [
        "We are accessing our datasets using Google Drive."
      ],
      "metadata": {
        "id": "MCG3dhPziOr3"
      }
    },
    {
      "cell_type": "code",
      "execution_count": null,
      "metadata": {
        "colab": {
          "base_uri": "https://localhost:8080/"
        },
        "id": "RM5TmiIhObPX",
        "outputId": "c1050465-8253-4652-8cf2-d17dcce3c6bc"
      },
      "outputs": [
        {
          "output_type": "stream",
          "name": "stdout",
          "text": [
            "Mounted at /content/drive\n"
          ]
        }
      ],
      "source": [
        "from google.colab import drive\n",
        "drive.mount('/content/drive')\n"
      ]
    },
    {
      "cell_type": "markdown",
      "source": [
        "### Function to Load and read the dataset."
      ],
      "metadata": {
        "id": "285QWv_wiUa7"
      }
    },
    {
      "cell_type": "code",
      "execution_count": null,
      "metadata": {
        "id": "1kaBG-_zOfpn"
      },
      "outputs": [],
      "source": [
        "def load_dataset():\n",
        "  zf = ZipFile('/content/drive/MyDrive/AMLProjectDataset.zip')\n",
        "  t_df = pd.read_csv(zf.open('cnn_dailymail/train.csv'))\n",
        "  v_df=pd.read_csv(zf.open('cnn_dailymail/validation.csv'))\n",
        "  test_df=v_df=pd.read_csv(zf.open('cnn_dailymail/test.csv'))\n",
        "  \n",
        "  return t_df,v_df,test_df"
      ]
    },
    {
      "cell_type": "code",
      "execution_count": null,
      "metadata": {
        "id": "2osbMUuRgVQ3"
      },
      "outputs": [],
      "source": [
        "lemmatizer = WordNetLemmatizer()\n",
        "\n",
        "def get_wordnet_pos(tag):\n",
        "    \"\"\"Map POS tag to first character lemmatize() accepts\"\"\"\n",
        "    # tag = nltk.pos_tag([word])[0][1][0].upper()\n",
        "    tag_dict = {\"J\": wordnet.ADJ,\n",
        "                \"N\": wordnet.NOUN,\n",
        "                \"V\": wordnet.VERB,\n",
        "                \"R\": wordnet.ADV}\n",
        "\n",
        "    return tag_dict.get(tag, wordnet.NOUN)\n"
      ]
    },
    {
      "cell_type": "markdown",
      "source": [
        "### Preprocessing Functions: <br>\n",
        "1) Lemmatizing <br>\n",
        "2) Removing Punctuations <br>\n",
        "3) Removing stopwords <br>\n",
        "4) Removing words less than length 3 <br>"
      ],
      "metadata": {
        "id": "TAGkPcaiib6M"
      }
    },
    {
      "cell_type": "code",
      "execution_count": null,
      "metadata": {
        "id": "qkBvjsxCOn7D"
      },
      "outputs": [],
      "source": [
        "def preprocessing(data,data_column):\n",
        "  train_df = data.drop(['id'], axis=1)\n",
        "  processed_sent=[]\n",
        "  for sent in train_df[data_column]:\n",
        "    processed_sent_sub=re.sub(\"[\\(\\[].*?[\\)\\]]\", \"\", sent)\n",
        "    processed_sent_sub=contractions.fix(processed_sent_sub)\n",
        "    processed_sent.append(processed_sent_sub)\n",
        "  WORD = re.compile(r'\\w+')\n",
        "  sentence = []\n",
        "  for art in processed_sent:\n",
        "    words = WORD.findall(art)\n",
        "    # print(words)\n",
        "    sentence.append(words)\n",
        "  eng_stopwords = stopwords.words('english')\n",
        "  punctuation = string.punctuation\n",
        "  format_sent = []\n",
        "\n",
        "  for sntc in sentence:\n",
        "    format_words = []\n",
        "    for word in sntc:\n",
        "      if word not in eng_stopwords and word not in punctuation and len(word)>2:\n",
        "        format_words.append(word.lower())\n",
        "    format_words = nltk.pos_tag(format_words)\n",
        "    doc = [lemmatizer.lemmatize(word[0],get_wordnet_pos(word[1][0].upper())) for word in format_words]\n",
        "    format_sent.append(\" \".join(doc))\n",
        "\n",
        "  return format_sent"
      ]
    },
    {
      "cell_type": "markdown",
      "source": [
        "### Function to add start and end tokens: "
      ],
      "metadata": {
        "id": "ZmXKCzo8iiWi"
      }
    },
    {
      "cell_type": "code",
      "execution_count": null,
      "metadata": {
        "id": "6KdF-OqorWvU"
      },
      "outputs": [],
      "source": [
        "def add_start_end_token(data):\n",
        "  #data= data.apply(lambda x : 'sostok '+ x + ' eostok')\n",
        "  data_sos_eos=[]\n",
        "  for x in data:\n",
        "    data_sos_eos.append('sos '+x+' eos')\n",
        "\n",
        "  return data_sos_eos"
      ]
    },
    {
      "cell_type": "markdown",
      "source": [
        "### Functions for tokenizing and padding:"
      ],
      "metadata": {
        "id": "hP-KNh6kijPj"
      }
    },
    {
      "cell_type": "code",
      "execution_count": null,
      "metadata": {
        "id": "bUzpZKDHhOe1"
      },
      "outputs": [],
      "source": [
        "def tokenizer(data):\n",
        "    tokenizer = Tokenizer(oov_token = \"<UNK>\")\n",
        "    #print(tokenizer.num_words)\n",
        "    tokenizer.fit_on_texts(data)\n",
        "    \n",
        "    #print(data[0])\n",
        "    return tokenizer\n",
        "\n",
        "def token_fit(data,tokenizer):\n",
        "    sequences=tokenizer.texts_to_sequences(data)\n",
        "    word_index=tokenizer.word_index\n",
        "    print(len(max(sequences,key=len)))\n",
        "    return sequences,len(max(sequences,key=len)),len(word_index)\n",
        "\n",
        "def padding(sequences,global_max_len):\n",
        "    padded = pad_sequences(sequences, padding = \"post\",maxlen=global_max_len)\n",
        "    return padded,len(padded[0])"
      ]
    },
    {
      "cell_type": "markdown",
      "source": [
        "### Model Definition:"
      ],
      "metadata": {
        "id": "fHtHmfJ3itLB"
      }
    },
    {
      "cell_type": "code",
      "execution_count": null,
      "metadata": {
        "id": "7eMzli8spZhi"
      },
      "outputs": [],
      "source": [
        "# Defining hyperparameters\n",
        "latent_dim = 256\n",
        "embedding_dim = 256"
      ]
    },
    {
      "cell_type": "code",
      "execution_count": null,
      "metadata": {
        "id": "WX4mlwRfooNY"
      },
      "outputs": [],
      "source": [
        "#create model with encoder decoder architecture:\n",
        "\n",
        "class MySeq2Seq:\n",
        "\n",
        "  def __init__(self, latent_dim,embedding_dim,ARTICLE_LEN,ART_VOCAB_SIZE,HIGHLIGHT_LEN, HIGH_VOCAB_SIZE):\n",
        "    with tensorflow.device(\"/gpu:0\"):\n",
        "      self.encoder_inputs = Input(shape=(ARTICLE_LEN,))\n",
        "      self.enc_emb_layer =  Embedding(HIGH_VOCAB_SIZE, embedding_dim,trainable=True)\n",
        "\n",
        "      self.encoder_gru1 = GRU(latent_dim,return_sequences=True,return_state=True,dropout=0.4,recurrent_dropout=0)\n",
        "      self.encoder_gru2 = GRU(latent_dim,return_sequences=True,return_state=True,dropout=0.4,recurrent_dropout=0)\n",
        "      self.encoder_gru3= GRU(latent_dim, return_state=True, return_sequences=True,dropout=0.4,recurrent_dropout=0)\n",
        "\n",
        "      self.decoder_inputs = Input(shape=(None,))\n",
        "      self.dec_emb_layer = Embedding(HIGH_VOCAB_SIZE, embedding_dim,trainable=True) \n",
        "      self.decoder_gru = GRU(latent_dim, return_sequences=True, return_state=True,dropout=0.4,recurrent_dropout=0)\n",
        "      self.decoder_dense =  TimeDistributed(Dense(HIGH_VOCAB_SIZE, activation='softmax'))\n",
        "  \n",
        "  def create(self):\n",
        "    with tensorflow.device(\"/gpu:0\"):\n",
        "      enc_emb = self.enc_emb_layer(self.encoder_inputs)\n",
        "      encoder_output1, state_c1 = self.encoder_gru1(enc_emb)\n",
        "      encoder_output2, state_c2 = self.encoder_gru2(encoder_output1)\n",
        "      encoder_outputs, state_c= self.encoder_gru3(encoder_output2)\n",
        "\n",
        "      self.encoder_outputs = encoder_outputs\n",
        "      self.state_c = state_c\n",
        "\n",
        "      dec_emb = self.dec_emb_layer(self.decoder_inputs)\n",
        "      decoder_outputs, decoder_state = self.decoder_gru(dec_emb,initial_state=[state_c])\n",
        "\n",
        "      self.decoder_outputs = self.decoder_dense(decoder_outputs)\n",
        "\n",
        "      self.model = Model([self.encoder_inputs, self.decoder_inputs], self.decoder_outputs)\n",
        "      self.model.summary()\n",
        "\n",
        "\n",
        "      #inference\n",
        "\n",
        "      #encoder - testing\n",
        "      self.encoder_testing = Model(inputs=self.encoder_inputs, outputs =[self.encoder_outputs,self.state_c])\n",
        "      self.encoder_testing.summary()\n",
        "\n",
        "      #decoder - testing\n",
        "      self.decoder_state_input = Input(shape=(latent_dim,))\n",
        "      self.decoder_hidden_state_input = Input(shape=(ARTICLE_LEN,latent_dim))\n",
        "\n",
        "      dec_emb2 = self.dec_emb_layer(self.decoder_inputs)\n",
        "\n",
        "      self.decoder_outputs, self.state_c = self.decoder_gru(dec_emb2, initial_state=self.decoder_state_input )\n",
        "\n",
        "      self.decoder_outputs = self.decoder_dense(self.decoder_outputs)\n",
        "\n",
        "      print(\"self.decoder_inputs\",self.decoder_inputs.get_shape())\n",
        "      print(\"self.decoder_state_input\",self.decoder_state_input.get_shape())\n",
        "      # print(\"self.decoder_hidden_state_input\",self.decoder_hidden_state_input.get_shape())\n",
        "\n",
        "      print(\"self.decoder_outputs\",self.decoder_outputs.get_shape())\n",
        "      print(\"self.state_c\",self.state_c.get_shape())\n",
        "\n",
        "      self.decoder_testing = Model([self.decoder_inputs]+[self.decoder_hidden_state_input,self.decoder_state_input], [self.decoder_outputs]+[self.state_c])\n",
        "      self.decoder_testing.summary()\n",
        "\n"
      ]
    },
    {
      "cell_type": "code",
      "execution_count": null,
      "metadata": {
        "id": "zNX4ynFGqDvq"
      },
      "outputs": [],
      "source": [
        "train_data,validation_data,test_data=load_dataset()"
      ]
    },
    {
      "cell_type": "code",
      "execution_count": null,
      "metadata": {
        "id": "l4NPFg7t7KW8"
      },
      "outputs": [],
      "source": [
        "data_size=5000"
      ]
    },
    {
      "cell_type": "code",
      "execution_count": null,
      "metadata": {
        "id": "AApNXQMJqqKu"
      },
      "outputs": [],
      "source": [
        "format_data=preprocessing(train_data[0:data_size],'article')\n",
        "format_highlight=preprocessing(train_data[0:data_size],'highlights')\n",
        "format_val_data = preprocessing(validation_data[0:data_size],'article')\n",
        "format_val_highlight = preprocessing(validation_data[0:data_size],'highlights')\n",
        "format_test_data = preprocessing(test_data[0:data_size],'article')\n",
        "format_test_highlight = preprocessing(test_data[0:data_size],'highlights')"
      ]
    },
    {
      "cell_type": "markdown",
      "source": [
        "We have capped the length of the text and summary according to the below histograms of word counts."
      ],
      "metadata": {
        "id": "D-FrtWCFjE8h"
      }
    },
    {
      "cell_type": "code",
      "execution_count": null,
      "metadata": {
        "colab": {
          "base_uri": "https://localhost:8080/",
          "height": 281
        },
        "id": "t5ToMqJPwUo_",
        "outputId": "3a89c23d-75b0-418a-e39a-3795df6e5749"
      },
      "outputs": [
        {
          "output_type": "display_data",
          "data": {
            "text/plain": [
              "<Figure size 432x288 with 2 Axes>"
            ],
            "image/png": "[encoded data removed]"
          },
          "metadata": {
            "needs_background": "light"
          }
        }
      ],
      "source": [
        "import matplotlib.pyplot as plt\n",
        "\n",
        "text_word_count = []\n",
        "summary_word_count = []\n",
        "\n",
        "# populate the lists with sentence lengths\n",
        "for i in format_data:\n",
        "      text_word_count.append(len(i.split()))\n",
        "\n",
        "for i in format_highlight:\n",
        "      summary_word_count.append(len(i.split()))\n",
        "\n",
        "length_df = pd.DataFrame({'text':text_word_count, 'summary':summary_word_count})\n",
        "\n",
        "length_df.hist(bins = 30)\n",
        "plt.show()"
      ]
    },
    {
      "cell_type": "code",
      "execution_count": null,
      "metadata": {
        "id": "cYtfWZrRwXva"
      },
      "outputs": [],
      "source": [
        "max_text_len=1000\n",
        "max_summary_len=100"
      ]
    },
    {
      "cell_type": "code",
      "execution_count": null,
      "metadata": {
        "id": "ISiBvntawgYg"
      },
      "outputs": [],
      "source": [
        "short_text=[]\n",
        "short_summary=[]\n",
        "short_val_summary=[]\n",
        "short_val_text=[]\n",
        "short_test_summary=[]\n",
        "short_test_text=[]\n",
        "for i in range(len(format_data)):\n",
        "    if(len(format_highlight[i].split())<=max_summary_len and len(format_data[i].split())<=max_text_len):\n",
        "        short_summary.append(format_highlight[i])\n",
        "        short_text.append(format_data[i])\n",
        "\n",
        "\n",
        "for i in range(len(format_val_data)):\n",
        "    if(len(format_val_highlight[i].split())<=max_summary_len and len(format_val_data[i].split())<=max_text_len):\n",
        "        short_val_summary.append(format_val_highlight[i])\n",
        "        short_val_text.append(format_val_data[i])\n",
        "\n",
        "for i in range(len(format_test_data)):\n",
        "    if(len(format_test_highlight[i].split())<=max_summary_len and len(format_test_data[i].split())<=max_text_len):\n",
        "        short_test_summary.append(format_test_highlight[i])\n",
        "        short_test_text.append(format_test_data[i])\n",
        "        \n",
        "format_highlight=short_summary\n",
        "format_data=short_text\n",
        "\n",
        "format_val_highlight=short_val_summary\n",
        "format_val_data=short_val_text\n",
        "\n",
        "format_test_highlight=short_test_summary\n",
        "format_test_data=short_test_text"
      ]
    },
    {
      "cell_type": "code",
      "execution_count": null,
      "metadata": {
        "colab": {
          "base_uri": "https://localhost:8080/"
        },
        "id": "9spTOJFc37eO",
        "outputId": "f712426a-cdd8-4ccc-b0d1-8f6ee2eceb87"
      },
      "outputs": [
        {
          "output_type": "execute_result",
          "data": {
            "text/plain": [
              "7014"
            ]
          },
          "metadata": {},
          "execution_count": 22
        }
      ],
      "source": [
        "len(max(format_data,key=len))"
      ]
    },
    {
      "cell_type": "code",
      "execution_count": null,
      "metadata": {
        "colab": {
          "base_uri": "https://localhost:8080/",
          "height": 209
        },
        "id": "Y5Tvkb7hu4jz",
        "outputId": "648e3802-3555-46ae-eafa-3a69f2a89afe"
      },
      "outputs": [
        {
          "output_type": "execute_result",
          "data": {
            "text/plain": [
              "'associated press publish est october 2013 updated est october 2013 the bishop fargo catholic diocese north dakota expose potentially hundred church member fargo grand fork jamestown hepatitis virus late september early october the state health department issue advisory exposure anyone attend five church take communion bishop john folda fargo catholic diocese north dakota expose potentially hundred church member fargo grand fork jamestown hepatitis state immunization program manager molly howell say risk low official feel important alert people possible exposure the diocese announce monday bishop john folda take time diagnose hepatitis the diocese say contract infection contaminate food attend conference newly ordain bishop italy last month symptoms hepatitis include fever tiredness loss appetite nausea abdominal discomfort fargo catholic diocese north dakota bishop locate'"
            ],
            "application/vnd.google.colaboratory.intrinsic+json": {
              "type": "string"
            }
          },
          "metadata": {},
          "execution_count": 23
        }
      ],
      "source": [
        "format_data[0]"
      ]
    },
    {
      "cell_type": "markdown",
      "source": [
        "### Text Tokenizing and Padding:"
      ],
      "metadata": {
        "id": "ARtmbz69jNhF"
      }
    },
    {
      "cell_type": "code",
      "execution_count": null,
      "metadata": {
        "colab": {
          "base_uri": "https://localhost:8080/"
        },
        "id": "4O4k5R1JMnSW",
        "outputId": "2758c0be-3596-45f1-874a-9422e727d7b0"
      },
      "outputs": [
        {
          "output_type": "stream",
          "name": "stdout",
          "text": [
            "1000\n",
            "98\n",
            "997\n",
            "98\n",
            "997\n",
            "98\n"
          ]
        }
      ],
      "source": [
        "#padded_seq,ART_VOCAB_SIZE,ARTICLE_LEN=tokenizer(format_data)\n",
        "X_token=tokenizer(format_data)\n",
        "sos_eos_highlight=add_start_end_token(format_highlight)\n",
        "Y_token=tokenizer(sos_eos_highlight)\n",
        "\n",
        "seq,max_len_data,ART_VOCAB_SIZE=token_fit(format_data,X_token)\n",
        "seq_highlight,max_len_data_highlights,HIGH_VOCAB_SIZE=token_fit(sos_eos_highlight,Y_token)\n",
        "\n",
        "#padded_val_seq_data, VAL_ART_VOCAB_SIZE, VAL_ART_LEN = tokenizer(format_val_data)\n",
        "val_seq_data, max_len_val_data, VAL_ART_VOCAB_SIZE= token_fit(format_val_data,X_token)\n",
        "sos_eos_val_highlight=add_start_end_token(format_val_highlight)\n",
        "#padded_val_seq_highlight, VAL_HIGH_VOCAB_SIZE, VAL_HIGHLIGHT_LEN = tokenizer(sos_eos_val_highlight)\n",
        "val_seq_highlight,max_len_val_data_highlights, VAL_HIGH_VOCAB_SIZE= token_fit(sos_eos_val_highlight,Y_token)\n",
        "\n",
        "#padded_test_seq_data, TEST_ART_VOCAB_SIZE, TEST_ART_LEN = tokenizer(format_test_data)\n",
        "test_seq_data, max_len_test_data, TEST_ART_VOCAB_SIZE= token_fit(format_test_data,X_token)\n",
        "sos_eos_test_highlight=add_start_end_token(format_test_highlight)\n",
        "#padded_test_seq_highlight, TEST_HIGH_VOCAB_SIZE, TEST_HIGHLIGHT_LEN = tokenizer(sos_eos_test_highlight)\n",
        "test_seq_highlight, max_len_test_data_highlights, TEST_HIGH_VOCAB_SIZE= token_fit(sos_eos_test_highlight,Y_token)\n",
        "\n",
        "global_max_len_data=max([max_len_data,max_len_val_data,max_len_test_data])\n",
        "global_max_len_data_highlights=max([max_len_data_highlights,max_len_val_data_highlights,max_len_test_data_highlights])\n",
        "\n",
        "padded_seq,ARTICLE_LEN=padding(seq,global_max_len_data)\n",
        "padded_val_seq_data, VAL_ART_LEN = padding(val_seq_data,global_max_len_data)\n",
        "padded_test_seq_data, TEST_ART_LEN = padding(test_seq_data,global_max_len_data)\n",
        "\n",
        "padded_seq_highlight,HIGHLIGHT_LEN=padding(seq_highlight,global_max_len_data_highlights)\n",
        "padded_val_seq_highlight, VAL_HIGHLIGHT_LEN = padding(val_seq_highlight,global_max_len_data_highlights)\n",
        "padded_test_seq_highlight, TEST_HIGHLIGHT_LEN = padding(test_seq_highlight,global_max_len_data_highlights)\n",
        "#print(words)"
      ]
    },
    {
      "cell_type": "code",
      "execution_count": null,
      "metadata": {
        "id": "Lo51Rng7k4pu"
      },
      "outputs": [],
      "source": [
        "global_max_highlight_vocab_size = max(HIGH_VOCAB_SIZE,VAL_HIGH_VOCAB_SIZE,TEST_HIGH_VOCAB_SIZE)\n",
        "\n",
        "global_max_article_vocab_size = max(ART_VOCAB_SIZE,VAL_ART_VOCAB_SIZE,TEST_ART_VOCAB_SIZE)"
      ]
    },
    {
      "cell_type": "code",
      "execution_count": null,
      "metadata": {
        "id": "MaancLJBzO_G",
        "colab": {
          "base_uri": "https://localhost:8080/"
        },
        "outputId": "3a1ff177-f11c-4d7d-de2b-e47cd4c3abc0"
      },
      "outputs": [
        {
          "output_type": "stream",
          "name": "stdout",
          "text": [
            "WARNING:tensorflow:From /usr/local/lib/python3.7/dist-packages/keras/backend/tensorflow_backend.py:95: The name tf.reset_default_graph is deprecated. Please use tf.compat.v1.reset_default_graph instead.\n",
            "\n",
            "WARNING:tensorflow:From /usr/local/lib/python3.7/dist-packages/keras/backend/tensorflow_backend.py:98: The name tf.placeholder_with_default is deprecated. Please use tf.compat.v1.placeholder_with_default instead.\n",
            "\n",
            "WARNING:tensorflow:From /usr/local/lib/python3.7/dist-packages/keras/backend/tensorflow_backend.py:102: The name tf.get_default_graph is deprecated. Please use tf.compat.v1.get_default_graph instead.\n",
            "\n"
          ]
        }
      ],
      "source": [
        "K.clear_session()  #Resets all state generated by Keras"
      ]
    },
    {
      "cell_type": "markdown",
      "source": [
        "### Creating model"
      ],
      "metadata": {
        "id": "qBOc25HhkOPy"
      }
    },
    {
      "cell_type": "code",
      "execution_count": null,
      "metadata": {
        "colab": {
          "base_uri": "https://localhost:8080/"
        },
        "id": "hgAnzS1uoyaH",
        "outputId": "a435773d-b5e6-46f8-82ce-f9e715649b2e"
      },
      "outputs": [
        {
          "output_type": "stream",
          "name": "stdout",
          "text": [
            "WARNING:tensorflow:From /usr/local/lib/python3.7/dist-packages/tensorflow_core/python/keras/initializers.py:119: calling RandomUniform.__init__ (from tensorflow.python.ops.init_ops) with dtype is deprecated and will be removed in a future version.\n",
            "Instructions for updating:\n",
            "Call initializer instance with the dtype argument instead of passing it to the constructor\n",
            "WARNING:tensorflow:From /usr/local/lib/python3.7/dist-packages/tensorflow_core/python/ops/resource_variable_ops.py:1630: calling BaseResourceVariable.__init__ (from tensorflow.python.ops.resource_variable_ops) with constraint is deprecated and will be removed in a future version.\n",
            "Instructions for updating:\n",
            "If using Keras pass *_constraint arguments to layers.\n",
            "Model: \"model\"\n",
            "__________________________________________________________________________________________________\n",
            "Layer (type)                    Output Shape         Param #     Connected to                     \n",
            "==================================================================================================\n",
            "input_1 (InputLayer)            [(None, 1000)]       0                                            \n",
            "__________________________________________________________________________________________________\n",
            "embedding (Embedding)           (None, 1000, 256)    5063424     input_1[0][0]                    \n",
            "__________________________________________________________________________________________________\n",
            "gru (GRU)                       [(None, 1000, 256),  393984      embedding[0][0]                  \n",
            "__________________________________________________________________________________________________\n",
            "input_2 (InputLayer)            [(None, None)]       0                                            \n",
            "__________________________________________________________________________________________________\n",
            "gru_1 (GRU)                     [(None, 1000, 256),  393984      gru[0][0]                        \n",
            "__________________________________________________________________________________________________\n",
            "embedding_1 (Embedding)         (None, None, 256)    5063424     input_2[0][0]                    \n",
            "__________________________________________________________________________________________________\n",
            "gru_2 (GRU)                     [(None, 1000, 256),  393984      gru_1[0][0]                      \n",
            "__________________________________________________________________________________________________\n",
            "gru_3 (GRU)                     [(None, None, 256),  393984      embedding_1[0][0]                \n",
            "                                                                 gru_2[0][1]                      \n",
            "__________________________________________________________________________________________________\n",
            "time_distributed (TimeDistribut (None, None, 19779)  5083203     gru_3[0][0]                      \n",
            "==================================================================================================\n",
            "Total params: 16,785,987\n",
            "Trainable params: 16,785,987\n",
            "Non-trainable params: 0\n",
            "__________________________________________________________________________________________________\n",
            "Model: \"model_1\"\n",
            "_________________________________________________________________\n",
            "Layer (type)                 Output Shape              Param #   \n",
            "=================================================================\n",
            "input_1 (InputLayer)         [(None, 1000)]            0         \n",
            "_________________________________________________________________\n",
            "embedding (Embedding)        (None, 1000, 256)         5063424   \n",
            "_________________________________________________________________\n",
            "gru (GRU)                    [(None, 1000, 256), (None 393984    \n",
            "_________________________________________________________________\n",
            "gru_1 (GRU)                  [(None, 1000, 256), (None 393984    \n",
            "_________________________________________________________________\n",
            "gru_2 (GRU)                  [(None, 1000, 256), (None 393984    \n",
            "=================================================================\n",
            "Total params: 6,245,376\n",
            "Trainable params: 6,245,376\n",
            "Non-trainable params: 0\n",
            "_________________________________________________________________\n",
            "self.decoder_inputs (?, ?)\n",
            "self.decoder_state_input (?, 256)\n",
            "self.decoder_outputs (?, ?, 19779)\n",
            "self.state_c (?, 256)\n",
            "Model: \"model_2\"\n",
            "__________________________________________________________________________________________________\n",
            "Layer (type)                    Output Shape         Param #     Connected to                     \n",
            "==================================================================================================\n",
            "input_2 (InputLayer)            [(None, None)]       0                                            \n",
            "__________________________________________________________________________________________________\n",
            "embedding_1 (Embedding)         (None, None, 256)    5063424     input_2[0][0]                    \n",
            "__________________________________________________________________________________________________\n",
            "input_3 (InputLayer)            [(None, 256)]        0                                            \n",
            "__________________________________________________________________________________________________\n",
            "gru_3 (GRU)                     [(None, None, 256),  393984      embedding_1[1][0]                \n",
            "                                                                 input_3[0][0]                    \n",
            "__________________________________________________________________________________________________\n",
            "input_4 (InputLayer)            [(None, 1000, 256)]  0                                            \n",
            "__________________________________________________________________________________________________\n",
            "time_distributed (TimeDistribut (None, None, 19779)  5083203     gru_3[1][0]                      \n",
            "==================================================================================================\n",
            "Total params: 10,540,611\n",
            "Trainable params: 10,540,611\n",
            "Non-trainable params: 0\n",
            "__________________________________________________________________________________________________\n"
          ]
        }
      ],
      "source": [
        "with tensorflow.device(\"/gpu:0\"):\n",
        "  seq2seq = MySeq2Seq(latent_dim,embedding_dim,global_max_len_data,global_max_article_vocab_size+1,global_max_len_data_highlights, global_max_highlight_vocab_size+1)\n",
        "\n",
        "  seq2seq.create()\n"
      ]
    },
    {
      "cell_type": "code",
      "execution_count": null,
      "metadata": {
        "id": "nb4buq5XdbPY"
      },
      "outputs": [],
      "source": [
        "from tensorflow.keras import callbacks\n",
        "class CustomCallback(callbacks.Callback):\n",
        "    def on_epoch_end(self, epoch, logs=None):\n",
        "        print(\"\\n Epoch {} ended\".format(epoch))\n",
        "        #print(seq2seq.model.layers[1].get_weights())"
      ]
    },
    {
      "cell_type": "markdown",
      "source": [
        "### Creating model"
      ],
      "metadata": {
        "id": "Bp8BAYClkZvN"
      }
    },
    {
      "cell_type": "code",
      "execution_count": null,
      "metadata": {
        "id": "teakG0NDyJmg"
      },
      "outputs": [],
      "source": [
        "#Adding Metrics\n",
        "with tensorflow.device(\"/gpu:0\"):\n",
        "  seq2seq.model.compile(optimizer='rmsprop' , loss='sparse_categorical_crossentropy' , metrics=['accuracy'])"
      ]
    },
    {
      "cell_type": "code",
      "execution_count": null,
      "metadata": {
        "id": "cGuZ1bqgz4Re"
      },
      "outputs": [],
      "source": [
        "#Adding Callback\n",
        "es = EarlyStopping(monitor='val_loss', mode='min', verbose=1, patience=2)"
      ]
    },
    {
      "cell_type": "markdown",
      "source": [
        "### Training and validating model"
      ],
      "metadata": {
        "id": "N7YRRJYfkdxJ"
      }
    },
    {
      "cell_type": "code",
      "execution_count": null,
      "metadata": {
        "colab": {
          "base_uri": "https://localhost:8080/"
        },
        "id": "5vmTAKKXz7_R",
        "outputId": "e6710faa-2181-44ef-eaea-26aec5da0e6c"
      },
      "outputs": [
        {
          "output_type": "stream",
          "name": "stdout",
          "text": [
            "WARNING:tensorflow:From /usr/local/lib/python3.7/dist-packages/tensorflow_core/python/ops/math_grad.py:1424: where (from tensorflow.python.ops.array_ops) is deprecated and will be removed in a future version.\n",
            "Instructions for updating:\n",
            "Use tf.where in 2.0, which has the same broadcast rule as np.where\n",
            "Train on 4975 samples, validate on 4972 samples\n",
            "Epoch 1/50\n",
            "4928/4975 [============================>.] - ETA: 2s - loss: 3.4670 - acc: 0.6640\n",
            " Epoch 0 ended\n",
            "4975/4975 [==============================] - 316s 64ms/sample - loss: 3.4566 - acc: 0.6646 - val_loss: 2.9579 - val_acc: 0.6550\n",
            "Epoch 2/50\n",
            "4928/4975 [============================>.] - ETA: 2s - loss: 2.7656 - acc: 0.6819\n",
            " Epoch 1 ended\n",
            "4975/4975 [==============================] - 313s 63ms/sample - loss: 2.7649 - acc: 0.6819 - val_loss: 2.9155 - val_acc: 0.6662\n",
            "Epoch 3/50\n",
            "4928/4975 [============================>.] - ETA: 2s - loss: 2.6884 - acc: 0.6855\n",
            " Epoch 2 ended\n",
            "4975/4975 [==============================] - 312s 63ms/sample - loss: 2.6906 - acc: 0.6853 - val_loss: 2.9125 - val_acc: 0.6674\n",
            "Epoch 4/50\n",
            "4928/4975 [============================>.] - ETA: 2s - loss: 2.6555 - acc: 0.6865\n",
            " Epoch 3 ended\n",
            "4975/4975 [==============================] - 334s 67ms/sample - loss: 2.6549 - acc: 0.6865 - val_loss: 2.9064 - val_acc: 0.6687\n",
            "Epoch 5/50\n",
            "4928/4975 [============================>.] - ETA: 2s - loss: 2.6224 - acc: 0.6874\n",
            " Epoch 4 ended\n",
            "4975/4975 [==============================] - 310s 62ms/sample - loss: 2.6226 - acc: 0.6874 - val_loss: 2.9007 - val_acc: 0.6693\n",
            "Epoch 6/50\n",
            "4928/4975 [============================>.] - ETA: 2s - loss: 2.5892 - acc: 0.6884\n",
            " Epoch 5 ended\n",
            "4975/4975 [==============================] - 323s 65ms/sample - loss: 2.5896 - acc: 0.6884 - val_loss: 2.8867 - val_acc: 0.6704\n",
            "Epoch 7/50\n",
            "4928/4975 [============================>.] - ETA: 2s - loss: 2.5528 - acc: 0.6894\n",
            " Epoch 6 ended\n",
            "4975/4975 [==============================] - 308s 62ms/sample - loss: 2.5549 - acc: 0.6893 - val_loss: 2.8767 - val_acc: 0.6710\n",
            "Epoch 8/50\n",
            "4928/4975 [============================>.] - ETA: 2s - loss: 2.5238 - acc: 0.6900\n",
            " Epoch 7 ended\n",
            "4975/4975 [==============================] - 305s 61ms/sample - loss: 2.5238 - acc: 0.6900 - val_loss: 2.8677 - val_acc: 0.6717\n",
            "Epoch 9/50\n",
            "4928/4975 [============================>.] - ETA: 2s - loss: 2.4880 - acc: 0.6908\n",
            " Epoch 8 ended\n",
            "4975/4975 [==============================] - 304s 61ms/sample - loss: 2.4900 - acc: 0.6906 - val_loss: 2.8500 - val_acc: 0.6716\n",
            "Epoch 10/50\n",
            "4928/4975 [============================>.] - ETA: 2s - loss: 2.4584 - acc: 0.6913\n",
            " Epoch 9 ended\n",
            "4975/4975 [==============================] - 304s 61ms/sample - loss: 2.4586 - acc: 0.6914 - val_loss: 2.8416 - val_acc: 0.6718\n",
            "Epoch 11/50\n",
            "4928/4975 [============================>.] - ETA: 2s - loss: 2.4275 - acc: 0.6919\n",
            " Epoch 10 ended\n",
            "4975/4975 [==============================] - 305s 61ms/sample - loss: 2.4270 - acc: 0.6920 - val_loss: 2.8406 - val_acc: 0.6723\n",
            "Epoch 12/50\n",
            "4928/4975 [============================>.] - ETA: 2s - loss: 2.3918 - acc: 0.6932\n",
            " Epoch 11 ended\n",
            "4975/4975 [==============================] - 305s 61ms/sample - loss: 2.3957 - acc: 0.6928 - val_loss: 2.8433 - val_acc: 0.6724\n",
            "Epoch 13/50\n",
            "4928/4975 [============================>.] - ETA: 2s - loss: 2.3650 - acc: 0.6935\n",
            " Epoch 12 ended\n",
            "4975/4975 [==============================] - 304s 61ms/sample - loss: 2.3655 - acc: 0.6935 - val_loss: 2.8406 - val_acc: 0.6723\n",
            "Epoch 14/50\n",
            "4928/4975 [============================>.] - ETA: 2s - loss: 2.3329 - acc: 0.6945\n",
            " Epoch 13 ended\n",
            "4975/4975 [==============================] - 304s 61ms/sample - loss: 2.3350 - acc: 0.6942 - val_loss: 2.8458 - val_acc: 0.6726\n",
            "Epoch 15/50\n",
            "4928/4975 [============================>.] - ETA: 2s - loss: 2.3036 - acc: 0.6952\n",
            " Epoch 14 ended\n",
            "4975/4975 [==============================] - 305s 61ms/sample - loss: 2.3040 - acc: 0.6951 - val_loss: 2.8452 - val_acc: 0.6726\n",
            "Epoch 16/50\n",
            "4928/4975 [============================>.] - ETA: 2s - loss: 2.2751 - acc: 0.6958\n",
            " Epoch 15 ended\n",
            "4975/4975 [==============================] - 305s 61ms/sample - loss: 2.2743 - acc: 0.6959 - val_loss: 2.8444 - val_acc: 0.6731\n",
            "Epoch 17/50\n",
            "4928/4975 [============================>.] - ETA: 2s - loss: 2.2446 - acc: 0.6967\n",
            " Epoch 16 ended\n",
            "4975/4975 [==============================] - 304s 61ms/sample - loss: 2.2442 - acc: 0.6968 - val_loss: 2.8476 - val_acc: 0.6730\n",
            "Epoch 18/50\n",
            "4928/4975 [============================>.] - ETA: 2s - loss: 2.2139 - acc: 0.6976\n",
            " Epoch 17 ended\n",
            "4975/4975 [==============================] - 304s 61ms/sample - loss: 2.2142 - acc: 0.6976 - val_loss: 2.8516 - val_acc: 0.6730\n",
            "Epoch 19/50\n",
            "4928/4975 [============================>.] - ETA: 2s - loss: 2.1860 - acc: 0.6983\n",
            " Epoch 18 ended\n",
            "4975/4975 [==============================] - 304s 61ms/sample - loss: 2.1851 - acc: 0.6985 - val_loss: 2.8527 - val_acc: 0.6728\n",
            "Epoch 20/50\n",
            "4928/4975 [============================>.] - ETA: 2s - loss: 2.1572 - acc: 0.6993\n",
            " Epoch 19 ended\n",
            "4975/4975 [==============================] - 305s 61ms/sample - loss: 2.1561 - acc: 0.6995 - val_loss: 2.8597 - val_acc: 0.6730\n",
            "Epoch 21/50\n",
            "4928/4975 [============================>.] - ETA: 2s - loss: 2.1263 - acc: 0.7007\n",
            " Epoch 20 ended\n",
            "4975/4975 [==============================] - 304s 61ms/sample - loss: 2.1273 - acc: 0.7006 - val_loss: 2.8605 - val_acc: 0.6726\n",
            "Epoch 22/50\n",
            "4928/4975 [============================>.] - ETA: 2s - loss: 2.1001 - acc: 0.7013\n",
            " Epoch 21 ended\n",
            "4975/4975 [==============================] - 304s 61ms/sample - loss: 2.0991 - acc: 0.7015 - val_loss: 2.8646 - val_acc: 0.6727\n",
            "Epoch 23/50\n",
            "4928/4975 [============================>.] - ETA: 2s - loss: 2.0708 - acc: 0.7027\n",
            " Epoch 22 ended\n",
            "4975/4975 [==============================] - 306s 61ms/sample - loss: 2.0710 - acc: 0.7027 - val_loss: 2.8712 - val_acc: 0.6729\n",
            "Epoch 24/50\n",
            "4928/4975 [============================>.] - ETA: 2s - loss: 2.0428 - acc: 0.7038\n",
            " Epoch 23 ended\n",
            "4975/4975 [==============================] - 305s 61ms/sample - loss: 2.0439 - acc: 0.7037 - val_loss: 2.8759 - val_acc: 0.6727\n",
            "Epoch 25/50\n",
            "4928/4975 [============================>.] - ETA: 2s - loss: 2.0173 - acc: 0.7048\n",
            " Epoch 24 ended\n",
            "4975/4975 [==============================] - 306s 61ms/sample - loss: 2.0179 - acc: 0.7048 - val_loss: 2.8785 - val_acc: 0.6725\n",
            "Epoch 26/50\n",
            "4928/4975 [============================>.] - ETA: 2s - loss: 1.9897 - acc: 0.7064\n",
            " Epoch 25 ended\n",
            "4975/4975 [==============================] - 306s 62ms/sample - loss: 1.9914 - acc: 0.7062 - val_loss: 2.8856 - val_acc: 0.6724\n",
            "Epoch 27/50\n",
            "4928/4975 [============================>.] - ETA: 2s - loss: 1.9655 - acc: 0.7071\n",
            " Epoch 26 ended\n",
            "4975/4975 [==============================] - 306s 62ms/sample - loss: 1.9653 - acc: 0.7071 - val_loss: 2.8918 - val_acc: 0.6727\n",
            "Epoch 28/50\n",
            "4928/4975 [============================>.] - ETA: 2s - loss: 1.9407 - acc: 0.7086\n",
            " Epoch 27 ended\n",
            "4975/4975 [==============================] - 306s 61ms/sample - loss: 1.9404 - acc: 0.7087 - val_loss: 2.8957 - val_acc: 0.6725\n",
            "Epoch 29/50\n",
            "4928/4975 [============================>.] - ETA: 2s - loss: 1.9155 - acc: 0.7099\n",
            " Epoch 28 ended\n",
            "4975/4975 [==============================] - 307s 62ms/sample - loss: 1.9146 - acc: 0.7101 - val_loss: 2.8993 - val_acc: 0.6723\n",
            "Epoch 30/50\n",
            "4928/4975 [============================>.] - ETA: 2s - loss: 1.8881 - acc: 0.7117\n",
            " Epoch 29 ended\n",
            "4975/4975 [==============================] - 306s 62ms/sample - loss: 1.8895 - acc: 0.7115 - val_loss: 2.9070 - val_acc: 0.6722\n",
            "Epoch 31/50\n",
            "4928/4975 [============================>.] - ETA: 2s - loss: 1.8681 - acc: 0.7126\n",
            " Epoch 30 ended\n",
            "4975/4975 [==============================] - 307s 62ms/sample - loss: 1.8654 - acc: 0.7131 - val_loss: 2.9125 - val_acc: 0.6719\n",
            "Epoch 32/50\n",
            "4928/4975 [============================>.] - ETA: 2s - loss: 1.8413 - acc: 0.7146\n",
            " Epoch 31 ended\n",
            "4975/4975 [==============================] - 306s 62ms/sample - loss: 1.8417 - acc: 0.7146 - val_loss: 2.9155 - val_acc: 0.6720\n",
            "Epoch 33/50\n",
            "4928/4975 [============================>.] - ETA: 2s - loss: 1.8162 - acc: 0.7165\n",
            " Epoch 32 ended\n",
            "4975/4975 [==============================] - 306s 62ms/sample - loss: 1.8173 - acc: 0.7164 - val_loss: 2.9224 - val_acc: 0.6718\n",
            "Epoch 34/50\n",
            "4928/4975 [============================>.] - ETA: 2s - loss: 1.7937 - acc: 0.7181\n",
            " Epoch 33 ended\n",
            "4975/4975 [==============================] - 307s 62ms/sample - loss: 1.7938 - acc: 0.7181 - val_loss: 2.9332 - val_acc: 0.6719\n",
            "Epoch 35/50\n",
            "4928/4975 [============================>.] - ETA: 2s - loss: 1.7694 - acc: 0.7201\n",
            " Epoch 34 ended\n",
            "4975/4975 [==============================] - 307s 62ms/sample - loss: 1.7709 - acc: 0.7199 - val_loss: 2.9337 - val_acc: 0.6717\n",
            "Epoch 36/50\n",
            "4928/4975 [============================>.] - ETA: 2s - loss: 1.7479 - acc: 0.7221\n",
            " Epoch 35 ended\n",
            "4975/4975 [==============================] - 308s 62ms/sample - loss: 1.7485 - acc: 0.7220 - val_loss: 2.9390 - val_acc: 0.6715\n",
            "Epoch 37/50\n",
            "4928/4975 [============================>.] - ETA: 2s - loss: 1.7260 - acc: 0.7240\n",
            " Epoch 36 ended\n",
            "4975/4975 [==============================] - 308s 62ms/sample - loss: 1.7266 - acc: 0.7240 - val_loss: 2.9468 - val_acc: 0.6716\n",
            "Epoch 38/50\n",
            "4928/4975 [============================>.] - ETA: 2s - loss: 1.7025 - acc: 0.7263\n",
            " Epoch 37 ended\n",
            "4975/4975 [==============================] - 307s 62ms/sample - loss: 1.7051 - acc: 0.7259 - val_loss: 2.9548 - val_acc: 0.6715\n",
            "Epoch 39/50\n",
            "4928/4975 [============================>.] - ETA: 2s - loss: 1.6839 - acc: 0.7281\n",
            " Epoch 38 ended\n",
            "4975/4975 [==============================] - 307s 62ms/sample - loss: 1.6828 - acc: 0.7283 - val_loss: 2.9583 - val_acc: 0.6711\n",
            "Epoch 40/50\n",
            "4928/4975 [============================>.] - ETA: 2s - loss: 1.6597 - acc: 0.7308\n",
            " Epoch 39 ended\n",
            "4975/4975 [==============================] - 308s 62ms/sample - loss: 1.6616 - acc: 0.7305 - val_loss: 2.9650 - val_acc: 0.6714\n",
            "Epoch 41/50\n",
            "4928/4975 [============================>.] - ETA: 2s - loss: 1.6407 - acc: 0.7327\n",
            " Epoch 40 ended\n",
            "4975/4975 [==============================] - 307s 62ms/sample - loss: 1.6415 - acc: 0.7326 - val_loss: 2.9690 - val_acc: 0.6710\n",
            "Epoch 42/50\n",
            "4928/4975 [============================>.] - ETA: 2s - loss: 1.6197 - acc: 0.7348\n",
            " Epoch 41 ended\n",
            "4975/4975 [==============================] - 308s 62ms/sample - loss: 1.6209 - acc: 0.7347 - val_loss: 2.9808 - val_acc: 0.6707\n",
            "Epoch 43/50\n",
            "4928/4975 [============================>.] - ETA: 2s - loss: 1.6001 - acc: 0.7370\n",
            " Epoch 42 ended\n",
            "4975/4975 [==============================] - 307s 62ms/sample - loss: 1.6003 - acc: 0.7369 - val_loss: 2.9826 - val_acc: 0.6708\n",
            "Epoch 44/50\n",
            "4928/4975 [============================>.] - ETA: 2s - loss: 1.5801 - acc: 0.7392\n",
            " Epoch 43 ended\n",
            "4975/4975 [==============================] - 308s 62ms/sample - loss: 1.5802 - acc: 0.7391 - val_loss: 2.9882 - val_acc: 0.6707\n",
            "Epoch 45/50\n",
            "4928/4975 [============================>.] - ETA: 2s - loss: 1.5604 - acc: 0.7417\n",
            " Epoch 44 ended\n",
            "4975/4975 [==============================] - 307s 62ms/sample - loss: 1.5613 - acc: 0.7416 - val_loss: 2.9932 - val_acc: 0.6708\n",
            "Epoch 46/50\n",
            "4928/4975 [============================>.] - ETA: 2s - loss: 1.5405 - acc: 0.7439\n",
            " Epoch 45 ended\n",
            "4975/4975 [==============================] - 308s 62ms/sample - loss: 1.5416 - acc: 0.7437 - val_loss: 3.0031 - val_acc: 0.6707\n",
            "Epoch 47/50\n",
            "4928/4975 [============================>.] - ETA: 2s - loss: 1.5196 - acc: 0.7467\n",
            " Epoch 46 ended\n",
            "4975/4975 [==============================] - 307s 62ms/sample - loss: 1.5214 - acc: 0.7464 - val_loss: 3.0081 - val_acc: 0.6707\n",
            "Epoch 48/50\n",
            "4928/4975 [============================>.] - ETA: 2s - loss: 1.5019 - acc: 0.7492\n",
            " Epoch 47 ended\n",
            "4975/4975 [==============================] - 309s 62ms/sample - loss: 1.5028 - acc: 0.7491 - val_loss: 3.0138 - val_acc: 0.6704\n",
            "Epoch 49/50\n",
            "4928/4975 [============================>.] - ETA: 2s - loss: 1.4823 - acc: 0.7519\n",
            " Epoch 48 ended\n",
            "4975/4975 [==============================] - 309s 62ms/sample - loss: 1.4841 - acc: 0.7517 - val_loss: 3.0190 - val_acc: 0.6702\n",
            "Epoch 50/50\n",
            "4928/4975 [============================>.] - ETA: 2s - loss: 1.4666 - acc: 0.7536\n",
            " Epoch 49 ended\n",
            "4975/4975 [==============================] - 308s 62ms/sample - loss: 1.4657 - acc: 0.7538 - val_loss: 3.0273 - val_acc: 0.6701\n"
          ]
        }
      ],
      "source": [
        "with tensorflow.device(\"/gpu:0\"):\n",
        "  history = seq2seq.model.fit([padded_seq,padded_seq_highlight[:,:-1]], padded_seq_highlight.reshape(padded_seq_highlight.shape[0],padded_seq_highlight.shape[1], 1)[:,1:] ,epochs=50,callbacks=[CustomCallback()],batch_size= 64, validation_data=([padded_val_seq_data,padded_val_seq_highlight[:,:-1]], padded_val_seq_highlight.reshape(padded_val_seq_highlight.shape[0],padded_val_seq_highlight.shape[1], 1)[:,1:]))\n"
      ]
    },
    {
      "cell_type": "markdown",
      "source": [
        "### Visualization of training and validation accuracy and loss"
      ],
      "metadata": {
        "id": "faIFB-lckqy5"
      }
    },
    {
      "cell_type": "code",
      "execution_count": null,
      "metadata": {
        "colab": {
          "base_uri": "https://localhost:8080/",
          "height": 281
        },
        "id": "RXhQVK-U-A-l",
        "outputId": "036783bf-9810-433b-cd1b-7b8ed6766cf1"
      },
      "outputs": [
        {
          "output_type": "display_data",
          "data": {
            "text/plain": [
              "<Figure size 432x288 with 1 Axes>"
            ],
            "image/png": "[encoded data removed]"
          },
          "metadata": {
            "needs_background": "light"
          }
        }
      ],
      "source": [
        "from matplotlib import pyplot\n",
        "pyplot.plot(history.history['acc'], label='train') \n",
        "pyplot.plot(history.history['val_acc'], label='validation') \n",
        "pyplot.title(\"Training and Validation Accuracy\")\n",
        "pyplot.legend() \n",
        "pyplot.show()"
      ]
    },
    {
      "cell_type": "code",
      "execution_count": null,
      "metadata": {
        "id": "r9Tgvwuc8mAw",
        "colab": {
          "base_uri": "https://localhost:8080/",
          "height": 281
        },
        "outputId": "4d6ad304-4fcd-4957-9c81-4c0ff853cd89"
      },
      "outputs": [
        {
          "output_type": "display_data",
          "data": {
            "text/plain": [
              "<Figure size 432x288 with 1 Axes>"
            ],
            "image/png": "[encoded data removed]"
          },
          "metadata": {
            "needs_background": "light"
          }
        }
      ],
      "source": [
        "pyplot.plot(history.history['loss'], label='train') \n",
        "pyplot.plot(history.history['val_loss'], label='validation') \n",
        "pyplot.title(\"Training and Validation Loss\")\n",
        "pyplot.legend() \n",
        "pyplot.show()"
      ]
    },
    {
      "cell_type": "markdown",
      "source": [
        "### Inference phase"
      ],
      "metadata": {
        "id": "jVK0Da96kwaS"
      }
    },
    {
      "cell_type": "code",
      "execution_count": null,
      "metadata": {
        "id": "OHvSWIVUAlYk"
      },
      "outputs": [],
      "source": [
        "def infer_results(padded_test_seq_data):\n",
        "  All_sentences = []\n",
        "  for i in range(len(padded_test_seq_data)):\n",
        "    # the input sequence to the encoder is the text data\n",
        "    inputseq = padded_test_seq_data[i].reshape(1,global_max_len_data)\n",
        "    encoder_op,encoder_c=seq2seq.encoder_testing.predict(inputseq)\n",
        "    infered_op = np.zeros((1,1))\n",
        "\n",
        "\n",
        "    # start token is sent to the decoder to infer outputs.\n",
        "    infered_op[0,0] = 2\n",
        "    decoded_sent=[]\n",
        "    reverse_words = Y_token.index_word\n",
        "    # print(\"Reverse\", reverse_words)\n",
        "    while True:\n",
        "      decoder_op,decoder_c=seq2seq.decoder_testing.predict([infered_op]+[encoder_op,encoder_c])\n",
        "      token_index=np.argmax(decoder_op[0,-1,:])\n",
        "      # print(token_index)\n",
        "      token=reverse_words[token_index]\n",
        "\n",
        "      if token==\"<UNK>\" or token==\"eos\" or len(decoded_sent)>=global_max_len_data_highlights:\n",
        "        #break the loop if unknown or end of sequence token is reached\n",
        "        break\n",
        "\n",
        "      if token!=\"<UNK>\" or token!=\"eos\":\n",
        "        decoded_sent.append(token)\n",
        "\n",
        "      infered_op[0,0]  = token_index\n",
        "\n",
        "      encoder_c=decoder_c\n",
        "\n",
        "    sent = \" \".join(decoded_sent)\n",
        "    All_sentences.append(sent)\n",
        "  return All_sentences\n",
        "All_sentences = infer_results(padded_test_seq_data)"
      ]
    },
    {
      "cell_type": "code",
      "execution_count": null,
      "metadata": {
        "id": "BRYj2e2IVhwg"
      },
      "outputs": [],
      "source": [
        ""
      ]
    },
    {
      "cell_type": "markdown",
      "source": [
        "### Rouge Metric:\n",
        "\n",
        "We have used Rouge score to compare the predicted summary and the actual summary to find the Precision, Recall and F1 scores."
      ],
      "metadata": {
        "id": "S_CI0msSk_CX"
      }
    },
    {
      "cell_type": "code",
      "execution_count": null,
      "metadata": {
        "colab": {
          "base_uri": "https://localhost:8080/"
        },
        "id": "bvjvXk-ROceE",
        "outputId": "46922782-00bc-460f-af4f-e434b8ad1ca5"
      },
      "outputs": [
        {
          "output_type": "stream",
          "name": "stdout",
          "text": [
            "Collecting rouge\n",
            "  Downloading rouge-1.0.1-py3-none-any.whl (13 kB)\n",
            "Requirement already satisfied: six in /usr/local/lib/python3.7/dist-packages (from rouge) (1.15.0)\n",
            "Installing collected packages: rouge\n",
            "Successfully installed rouge-1.0.1\n"
          ]
        }
      ],
      "source": [
        "!pip install rouge"
      ]
    },
    {
      "cell_type": "code",
      "execution_count": null,
      "metadata": {
        "id": "rzn_HzOWnTay"
      },
      "outputs": [],
      "source": [
        "from rouge import Rouge\n",
        "rouge = Rouge()"
      ]
    },
    {
      "cell_type": "code",
      "execution_count": null,
      "metadata": {
        "id": "QXfWzkkXINxg",
        "colab": {
          "base_uri": "https://localhost:8080/"
        },
        "outputId": "f7a27767-b15f-459c-e0fb-b1b74c5001f7"
      },
      "outputs": [
        {
          "output_type": "stream",
          "name": "stdout",
          "text": [
            "4972\n",
            "Presicion: 0.07939903264902061\n",
            "Recall: 0.060089764269303146\n",
            "F1: 0.06546251745375209\n"
          ]
        }
      ],
      "source": [
        "presicion = []\n",
        "recall = []\n",
        "f1 = []\n",
        "print(len(All_sentences))\n",
        "for (h, r) in zip(All_sentences, format_test_highlight):\n",
        "    if h != \"\" and r != \"\":\n",
        "      score = rouge.get_scores(h, r)\n",
        "      # print(score)\n",
        "      s = score[0]['rouge-1']\n",
        "      presicion.append(s[\"p\"])\n",
        "      recall.append(s[\"r\"])\n",
        "      f1.append(s[\"f\"])\n",
        "\n",
        "print(\"Presicion:\",sum(presicion)/len(presicion))\n",
        "print(\"Recall:\", sum(recall)/len(recall))\n",
        "print(\"F1:\",sum(f1)/len(f1))"
      ]
    },
    {
      "cell_type": "markdown",
      "source": [
        "### Inferred results visualization\n",
        "\n",
        "Following cells show some good examples of text summerization as well as some failed examples on Amazon dataset."
      ],
      "metadata": {
        "id": "uheYLIItUcaO"
      }
    },
    {
      "cell_type": "markdown",
      "source": [
        "##### Some examples:"
      ],
      "metadata": {
        "id": "f4U55IK5UVn6"
      }
    },
    {
      "cell_type": "code",
      "execution_count": null,
      "metadata": {
        "id": "TJNDURAGXjva",
        "colab": {
          "base_uri": "https://localhost:8080/"
        },
        "outputId": "f4680b68-8a0e-4d1d-d83a-31c9a65ad3c5"
      },
      "outputs": [
        {
          "output_type": "stream",
          "name": "stdout",
          "text": [
            "Article:   mother two lose ten stone become concerned size cause look like man kim callaghan pile pound birth two child reach worry 20st 3lb however determine slim shrunk slender 9st 10lb take exercise swap starchy meal small portion kim callaghan become worried weight cause look like man go dramatic diet saw lose half body weight kim weight loss saw drop incredible ten dress size slim slinky size eight before slimmed kim wardrobe limit size figure hide garment afraid lose femininity kim live ardee county louth ireland say turn masculine clothing way hide shape wear baggy trouser flappy shirt fat try cover body embarrass stop look like woman now slimmed feel confident enough wear dress feel healthy feminine kim marry husband sean callaghan 1999 after pair get married splash double deep fat fryer kim pile pound give birth two child become heavier worried husband sean would see sexy woman marry before weight loss kim limit wardrobe size clothing slinky size the housewife diet consist mainly convenience food like chicken kiev deep fry chicken potato croquettes burger she say loved pizza chip chicken kievs the deep fat fryer favourite thing house soon kim give birth child owen shannon weight gain accelerate eventually tipped scale 20st 3lb say find increasingly difficult find clothes suit the turning point come kim struggle keep child take part regular exercise include cycle around local area kim join slimming world secret lose stone first three week try take pride appearance size impossible find anything flattering ordered clothes catalogue before long wardrobe could own man signature crop hairstyle honestly look nothing like woman worry sexy curvy bride sean marry disappear forever the turning point come kim child patrick day 2011 she stop rest struggle keep she say try follow kid hill near home hot sweaty stop catch breath weight get way life kid know time change when get home night find slimming world leaflet post door thought sign kim start attend local slimming world class secret initially embarrassed admit try lose weight she say take courage meeting convince everyone would judge kim feel far feminine limited catalogue clothing three week later would would stone celebrated tell husband kid they supportive amazed do bid make dramatic change swap greasy fry food healthy meal cook scratch kim even throw double deep fat fryer the devote slimmer also start run cycle pound start fall soon slimmed slinky 9st 10lb today ditch baggy unflattering clothes good she say love able shop everything fit need order catalogue feel fantastic look great new life breakfast nothing lunch fry four slice butter bread dinner chicken kiev potato croquettes chip snack crisp breakfast porridge berry lunch scramble egg ham mushroom dinner chicken stir fry snack throughout day snack yoghurt fresh fruit\n",
            "Actual Highlights:   kim callaghan ireland pile pound child limit size clothing kim worry resembled man she join slimming world drop ten dress sizes well 10st\n",
            "Predicted HIghlighs:  sarah kelly suffer broken doctor use gate clinic she say son tell child eat infection meal suffer mr affleck she also live away away past month\n"
          ]
        }
      ],
      "source": [
        "index = 100\n",
        "print(\"Article:  \",format_test_data[index])\n",
        "print(\"Actual Highlights:  \",format_test_highlight[index])\n",
        "print(\"Predicted HIghlighs: \",All_sentences[index])"
      ]
    },
    {
      "cell_type": "code",
      "source": [
        "index = 2682\n",
        "print(\"Article:  \",format_test_data[index])\n",
        "print(\"Actual Highlights:  \",format_test_highlight[index])\n",
        "print(\"Predicted HIghlighs: \",All_sentences[index])"
      ],
      "metadata": {
        "colab": {
          "base_uri": "https://localhost:8080/"
        },
        "id": "6op5izW8Ugbj",
        "outputId": "0c14051a-d084-4152-abc6-ac64140dcca1"
      },
      "execution_count": null,
      "outputs": [
        {
          "output_type": "stream",
          "name": "stdout",
          "text": [
            "Article:   renowned fashion designer collette dinnigan place luxurious paddington home market splash stylish waterfront home one sydney exclusive suburbs the four bedroom 19th century sandstone property cost dinnigan million back 2009 set hammer may after purchase lavish million watson bay property last month husband bradley cock dinnigan hop cool million lavishly renovated paddington house sell scroll video fashion queen collette dinnigan put four bedroom 19th century sandstone property market the two storey terrace home built 1880 set 379 square metre prime paddington real estate one oldest house paddington renovation stun say sell agent ben collier msgrath estate agent sell property along will man ballard property the international designer husband carefully renovate property sympathetic keep period style still keep contemporary say collier collier say owner love combination house proximity restaurant cafes along unusually large terrace make property actual house most terrace area around six metre property terrace twice say set back street exclusive suburb couple share meticulously craft home child year old estella three year old hunter the two storey terrace home built 1880 set 379 square metres the international designer husband carefully renovate property sympathetic keep period style still keep contemporary say sell agent collier set back street exclusive suburb couple share meticulously craft home child year old estella three year old hunter dinnigan successful designer since open first store 1992 sell brand new york london hong kong the inspired reinvention contemporary period style offer selection casual formal living area extend onto central courtyard area stone finish leafy courtyard area the french provincial style kitchen boast marble island bar flow effortlessly onto outdoor entertaining area the recently configure low level master suite feature stand alone marble bathtub the fact master bedroom ground floor unusual mean owner live completely one level guest bedroom bathroom upstairs say collier wonderful property want paddington lifestyle want incorporate multiple level say the bedroom generous size build in surround neutral colour scheme the expose sandstone wall recycle wooden floorboard add feel rustic luxury the inspired reinvention contemporary period style offer selection casual formal living area the french provincial style kitchen boast marble island bar the open plan kitchen flow effortlessly onto outdoor entertaining area the prestige dual level residence also boast deep front courtyard the fashionista husband buy property james packer right hand man watson bay march matthew csidei work james packer wife lauren roscoe live former masonic lodge move london two kid accord property observer this come dinnigan sell multi million dollar palm beach home last year earlier close boutique could spend time two young child the bedroom generous size build in surround neutral colour scheme the recently configure low level master suite feature stand alone marble bathtub the four bedroom property watson bay luxurious feature include 18th century french oak parquetry floor metre lap pool view sydney harbour real estate agent market home expertly rebuilt 2008 classical beau art inspire contemporary home the property observer report house list million sell ballard property sydney sotheby realty march september last year dinnigan husband sell palm beach home 2million the couple purchase home 2010 3million go refurbish four year stay the three bedroom property buy the castle actress sophie lee husband ceo advertising agency host anthony freedman dinnigan also reportedly home paddington holiday house south coast\n",
            "Actual Highlights:   collette dinnigan paddington million home hit market she husband bradley cock pay million back 2009 the luxury house hammer may the four bedroom two storey sandstone property built 1880 the fashionista husband carefully renovate property\n",
            "Predicted HIghlighs:  the book award star show category sell shop time holiday film first album include broken fracture metal island scene the band also also build castle old old door one look like castle queen elizabeth prince philip california april they believe saw pair clutch get away hearing\n"
          ]
        }
      ]
    },
    {
      "cell_type": "code",
      "source": [
        "index = 4411\n",
        "print(\"Article:  \",format_test_data[index])\n",
        "print(\"Actual Highlights:  \",format_test_highlight[index])\n",
        "print(\"Predicted HIghlighs: \",All_sentences[index])"
      ],
      "metadata": {
        "colab": {
          "base_uri": "https://localhost:8080/"
        },
        "id": "i4ob7GT3Umw5",
        "outputId": "eabeaccf-6508-4d8c-dca1-16b03a8c24dc"
      },
      "execution_count": null,
      "outputs": [
        {
          "output_type": "stream",
          "name": "stdout",
          "text": [
            "Article:   jack wilshere may rub shoulder like alexis sanchez mesut ozil daily basis leave starstruck thursday even meet brazil legend pele even well wilshere arsenal midfielder give opportunity interview three time world cup winner launch party 10ten talent both wilshere pele along glenn hoddle client england international make sure fan twitter know meet post several tweet brazil legend pele arsenal midfielder jack wilshere pose photo launch 10ten talent wilshere give honour interview legendary pele ask twitter question fan earlier thursday wilshere tweet look forward meet pele tonight ask best question send jackmeetspele the year old follow several tweet event many include photo pele meanwhile pele acknowledge last year world cup disaster brazil surprise quickly likes oscar ramires bounce back barclays premier league season brazil humiliate germany semi final defeat host thrash holland third place play pele score goal game brazil world cup three time former santos striker still find last year capitulation difficult understand something nobody explain say pele announce art life football exhibition halcyon gallery london glenn hoddle also attend launch along pele wilshere trio 10ten talent client pele bemoaned brazil performance host last summer world cup say disaster the brazil legend score goal game country world cup three time when prepare world cup two team everybody even people know football expect final spain brazil those two team suppose final but german team saw play two year good they well prepare and course disaster really disaster something nobody could predict david luiz team mate humiliate germany semi final lose germany minutes fred team mate suffer embarrass defeat brazil could lose lose second game lose something god explain the five time world cup winner regroup new head coach dunga brazil premier league base player show ill effect season oscar ramires help chelsea point lead top table liverpool philippe coutinho shortlist professional footballer association player young player year award pele however praise oscar ramires reaction premier league season surprise follow league pele say course sometimes happen brazil happens football you see team best team lose surprise pleasure commercial oscar recently congratulate the art life football exhibition art inspire pele celebrate 75th birthday the exhibition open september include work internationally acclaimed artist include andy warhol lorenzo quinn mitch griffith\n",
            "Actual Highlights:   jack wilshere join former england manager glenn hoddle the arsenal midfielder interview pele launch 10ten talent pele score goal game brazil three world cup the brazil legend say 2014 world cup performance expect the host humiliate germany semi final last summer pele however surprised reaction oscar ramires year\n",
            "Predicted HIghlighs:  former ranger bos daniel tom jackson announce time match the year old make part first match day defeat africa gary cahill among third player\n"
          ]
        }
      ]
    },
    {
      "cell_type": "code",
      "source": [
        "index = 21\n",
        "print(\"Article:  \",format_test_data[index])\n",
        "print(\"Actual Highlights:  \",format_test_highlight[index])\n",
        "print(\"Predicted HIghlighs: \",All_sentences[index])"
      ],
      "metadata": {
        "colab": {
          "base_uri": "https://localhost:8080/"
        },
        "id": "CyAhrDEqVbHI",
        "outputId": "a172446a-9ecc-49e8-c1eb-9cea06dda37d"
      },
      "execution_count": null,
      "outputs": [
        {
          "output_type": "stream",
          "name": "stdout",
          "text": [
            "Article:   wanted police fit image millionaire people trafficker ermias ghermay think make 72m accomplice mered medhanie smuggling migrant last two year two millionaire people trafficker hear mock migrant boat disaster result thousand deaths mediterranean report one eritrean call mered medhanie also know the general heard laugh police wiretap overload migrant ship problem cause capsize medhanie base libyan capital tripoli say boast they say put many aboard one want leave hurry second trafficker ermias ghermay think make 72million medhanie smuggle last two year also show callous disregard plight customer hear declare last summer they organise another trip day ago know happen probably die ghermay also live tripoli already wanted arrest warrant connection october 2013 capsize lampedusa leave 366 dead report conversation come day least 900 people fear drowned one bad maritime disaster since end world war two more 700 perish last week alone italian police yesterday release ghermay photofit seek track pair among several trafficker want connection major human smuggle ring ghermay medhanie currently live undisturbed tripoli exploit lawlessness collapse state allow smuggler operate impunity since fall gaddafi medhanie reportedly compare former libyan dictator accomplice enjoy protection local law authority capital take rival islamist faction italian naval officer stand front rescue migrant board italian navy vessel bettica arrive sicilian harbour augusta late group rescue mediterranean terrified boy embrace arrive migrant sicilian harbor augusta italian navy another wire tap record medhanie think wife child sweden heard express scant regard migrant suffer illegal job expect government say accord stampa report the independent others reveal business boom heard say this year do well send 000 000 another intercept reveal discussion medhanie accomplice italy possibility set bank account united arab emirate opt you canadian bank ask money come safe european government come increase pressure tackle mediterranean migrant crisis ahead summit harrow detail emerge fate hundred die weekend rescue migrant wait disembark italian navy vessel bettica sicilian harbour augusta barbaric human trafficker separate migrant race lock dark skin deck death inevitable boat sink survivor tell teenager arrive italian island lampedusa tell passenger sub saharan africa place hold water sunlight crucially mean escape one boy somalia tell aid worker save the child the libyan get italy human they push eight nigerian sea they drown conversely yusuf year old palestinian boy flee gaza italy february say place upper level people middle east report the independent police palermo arrest people monday connection smuggle ring say mastermind ghermay prosecutor say network generate transaction worth hundred thousand euros criss cross europe migrant pay cross mediterranean also join relative northern europe prosecutor maurizio scalia say base telephone intercepts average cost smuggle migrant eritrea ethiopia libya run 000 000 cross italy cost additional 000 500 migrant pay hundred dollar get hold center least another 000 travel northern europe payment leg make front often use islamic hawala banking system base informal honour code relative northern europe pay local broker the payment information transmit actual trafficker ground advise leg pay european government today mount pressure act decisively mediterranean migrant crisis harrow detail emerge fate die bad tragedy date with crisis set discussed emergency summit thursday allegation callous disregard arab african life push leader respond disaster 800 people fear died appalling circumstance coast libya sunday member crew italian coast guard ship gregoretti prepare disembark one body 800 victim migrant boat tragedy valletta grand harbour malta tunisian boat captain mohammed ali malek see speak nurse believe enrico vitiello italian coastguard ship arrest death 950 migrant police handout show mohammed ali malek mahmud bikhit arrest malta the vast majority board lock hold middle deck metre boat capsize follow collision portuguese cargo ship respond distress signal only include two crew member arrest survived body recover survivor describe moment doom ship sank tell clung dead body pitch black sea order stay afloat they also accuse captain drunk moment ram another ship cause tragedy bangladeshi riajul islam say reason survive top deck know swim nasir khan fellow year old bangladeshi say also top deck live cling life vest the stricken boat initially set egypt stop libyan coast near city zuwarah pick passenger report set libya saturday send distress signal shortly midnight 120 mile south italian island lampedusa later capsize\n",
            "Actual Highlights:   mered medhanie ermias ghermay make 72m last two year medhanie hear police wiretap mock fatal overcrowd ship ghermay reportedly say know happen probably died pair want major smuggle ring hide lawless libya\n",
            "Predicted HIghlighs:  the prime minister say shaun wright resign wife wife say would use spill men woman accuse allegedly rap second degree assault woman allegedly commit crime sentence\n"
          ]
        }
      ]
    },
    {
      "cell_type": "code",
      "source": [
        "index = 87\n",
        "print(\"Article:  \",format_test_data[index])\n",
        "print(\"Actual Highlights:  \",format_test_highlight[index])\n",
        "print(\"Predicted HIghlighs: \",All_sentences[index])"
      ],
      "metadata": {
        "colab": {
          "base_uri": "https://localhost:8080/"
        },
        "id": "y72kewWNVhX2",
        "outputId": "6c0b304f-fb2e-480d-deae-6578110c9df4"
      },
      "execution_count": null,
      "outputs": [
        {
          "output_type": "stream",
          "name": "stdout",
          "text": [
            "Article:   water police call help search miss autistic boy year old luke shambrook fascinate water swim luke miss two night victorian national park temperature drop low eight degree celsius saturday night however may even know lose know frequently hide accord family last see leave candlebark campground fraser national park near lake eildon 30am good friday accord herald sun year old reportedly see walk near devil river sunday four kilometre south campsite last see search crew rush location police remain comfortable young boy still alive luke limit speech family say probably confuse may even aware lose camper help rescue team include air wing dog squad local police ses volunteer search thick bushland scroll video luke shambrook last see national park 30am good friday understood wander see since police assume luke spent hour without food water saturday night would experience temperature low degree celsius police hold hope luke able stay reasonably warm last see wear beanie warm jacket there moment hope beanie find search party however decide belong luke have meet luke family push open special school melbourne southeast opposition emergency service spokeman brad battin say devastate hear year old missing say luke parent tim rachel update search appreciate effort look little boy lovely young kid battin tell aap sunday display characteristics child autism mean might even think lose sergeant greg paul say search focus area several kilometre bushland the candlebark campground fraser national park central victoria luke go miss friday get lot searcher bush get lot searcher search track track gully spur tell reporter saturday the shambrook family thank emergency service worker volunteer family friends help they say disappearance completely character widespread search carry search rescue team include air wing dog squad local police ses member along camper around surround area large search carry medley search rescue team sergeant greg paul say search focus area several kilometre bushland get lot searcher bush tell reporter saturday also get people walk bank lake but outline serious hurdle search effort accord abc with autistic condition luke might respond searcher may even know lose say necessarily respond name call might change little bit get hungry maybe lake eildon near luke go miss police say condition favourable survival overnight warm temperature day sgt paul say hundred camper area busy easter period chance someone else could spot luke luke describe medium build 150 tall olive skin brown hair brown eye last see wear black windcheater black shirt grey track pant grey boots scarf sergeant greg paul say search focus area several kilometre bushland searcher desperately comb bushland bank lake autistic go miss widespread search carry search rescue team include dog squad local police\n",
            "Actual Highlights:   luke shambrook last see leave candlebark campground friday the year old camping victorian national park family miss two night temperature dip low eight degree celsius saturday night there unconfirmed sight luke police act quickly the year old reportedly see walk kms campsite luke limit speech family say probably confused large search carry medley search rescue team police also say condition favourable survival overnight they issue extensive description luke clothing\n",
            "Predicted HIghlighs:  the year old man arrest suspicion murder charge murder body say authority say victim abused police say authority say boy murder\n"
          ]
        }
      ]
    },
    {
      "cell_type": "code",
      "source": [
        "index = 985\n",
        "print(\"Article:  \",format_test_data[index])\n",
        "print(\"Actual Highlights:  \",format_test_highlight[index])\n",
        "print(\"Predicted HIghlighs: \",All_sentences[index])"
      ],
      "metadata": {
        "colab": {
          "base_uri": "https://localhost:8080/"
        },
        "id": "e_rE-Y4yVnAv",
        "outputId": "fa3dffd8-628c-4c92-bdc1-4c173f6586a8"
      },
      "execution_count": null,
      "outputs": [
        {
          "output_type": "stream",
          "name": "stdout",
          "text": [
            "Article:   juventus rule move manchester unite loan star radamel falcao claim colombia striker wag beyond mean falcao endure difficult period old trafford arrive expensive loan deal monaco last summer the year old unlikely remain club score four goal fail force way louis van gaal start juventus general manager beppe marotta claim falcao want come turin last summer serie champion take race sign radamel falcao score four goal since arrive manchester unite monaco the colombian expect leave summer although juventus claim cannot afford falcao monaco player loan manchester unite wage substantial beyond mean marotta tell gazzetta dello sport utopian imagine juventus shirt however marotta claim italian reach champion league semi final expense monaco wednesday interested strike pair paulo dybala edinson cavani with former manchester city striker carlos tevez set return boca junior end season juventus need reinforce forward line palermo dybala edinson paris saint germain top wishlist the serie champion express interest highly rat palermo youngster paulo dybala with dybala rat 35m psg unsettled striker edinson cavani could cheaper alternative like dybala one objectives marotta say hide fact meet zamparini even deny blurt anyway great player alongside need experienced player try find agreement zamparini player like one like let see happen juventus player celebrate beat monaco reach champion league semi final the year old scored goal term rat 35million club fee old lady would prepare meet leading marotta also express interest uruguay forward cavani contact paris saint germain cavani place market would little chat marotta say\n",
            "Actual Highlights:   monaco loanee radamel falcao expect stay man utd juventus rule move colombia star high wage serie champion express interest palermo paulo dybala edinson cavani paris saint germain\n",
            "Predicted HIghlighs:  manchester unite beat liverpool old trafford saturday unite midfielder say always want would make good problem the former manchester unite bos louis van gaal side join premier league game the england star michael rodriguez say rooney player\n"
          ]
        }
      ]
    },
    {
      "cell_type": "code",
      "source": [
        "index = 1597\n",
        "print(\"Article:  \",format_test_data[index])\n",
        "print(\"Actual Highlights:  \",format_test_highlight[index])\n",
        "print(\"Predicted HIghlighs: \",All_sentences[index])"
      ],
      "metadata": {
        "colab": {
          "base_uri": "https://localhost:8080/"
        },
        "id": "-egOv3_uVttt",
        "outputId": "e956122e-7ac8-494f-e840-b89c7f812188"
      },
      "execution_count": null,
      "outputs": [
        {
          "output_type": "stream",
          "name": "stdout",
          "text": [
            "Article:   this shocking moment labour candidate collapse second due take part live debate darren jones stand bristol north west see step away podium complain pin needle legs the labour candidate start sway foot front worry audience member collapse front presenter ellie pitt opponent make bristol programme decision make darren jones see step away podium front worry look opponent second programme due air the year old approach presenter ellie pitt take glass collapse front studio audience second due air the channel force cut commercial year old recover studio floor ambulance call cancel programme delayed nine minute once back foot jones escort build leave local candidate ukip michael frost liberal democrat clare campion smith conservative charlotte leslie take part debate without later say feeling well faint determine cancel event blame collapse cold brought campaign say team work really hard make sure return labour bristol north west fight thing really matter manage catch cold process want make sure labour vision well britain represent go studio anyway clearly unwise audience member rush help labour candidate fell foot second go air after come jones sit studio floor debate note still podium next opponent disappointed voter bristol get labour representation deserve look forward opportunity represent parliament next labour bristol north west week time chris james station manager make bristol say make bristol hope darren recover send best wish truly shock moment witness everyone call ambulance immediately number make staff audience member carry outside get fresh air speak darren feel much good say disappointed could take part jones say collapsed become exhaust cold look forward get back campaign trail\n",
            "Actual Highlights:   darren jones see sway foot moment go air the year old step away podium second spare collapsed front audience make bristol decision make later candidate say feeling poorly day show\n",
            "Predicted HIghlighs:  new the you say new york city grand jury charge charge murder charge relate charge murder charge murder charge murder charge murder charge murder charge murder\n"
          ]
        }
      ]
    }
  ],
  "metadata": {
    "accelerator": "GPU",
    "colab": {
      "collapsed_sections": [],
      "name": "GRU_CNN_dataset_5k_final.ipynb",
      "provenance": []
    },
    "kernelspec": {
      "display_name": "Python 3",
      "language": "python",
      "name": "python3"
    },
    "language_info": {
      "codemirror_mode": {
        "name": "ipython",
        "version": 3
      },
      "file_extension": ".py",
      "mimetype": "text/x-python",
      "name": "python",
      "nbconvert_exporter": "python",
      "pygments_lexer": "ipython3",
      "version": "3.8.3"
    }
  },
  "nbformat": 4,
  "nbformat_minor": 0
}